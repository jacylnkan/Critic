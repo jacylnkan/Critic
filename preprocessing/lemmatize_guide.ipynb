{
 "cells": [
  {
   "cell_type": "markdown",
   "source": [
    "## Lemmatize Guide Documents\n",
    "\n",
    "In this section, we lemmatize the guide document (found at [this site](https://medium.com/@m.g.jasper/10-essential-elements-for-movie-reviews-921230d7fb1e)).\n",
    "Each section in the guide document is lemmatized and written to separate files."
   ],
   "metadata": {
    "collapsed": false,
    "pycharm": {
     "name": "#%% md\n"
    }
   }
  },
  {
   "cell_type": "code",
   "execution_count": 5,
   "metadata": {},
   "outputs": [],
   "source": [
    "import shared_functions.cleaning as cleaning\n",
    "import glob\n",
    "from nltk.stem import WordNetLemmatizer\n",
    "\n",
    "lemmatizer = WordNetLemmatizer()\n",
    "\n",
    "# get original filenames of guide docs \n",
    "guide_filenames = [file for file in glob.glob(\"../data/topics/raw_topics/*.txt\")]\n",
    "\n",
    "# read each file, append content to list\n",
    "guide_documents = []\n",
    "for file in guide_filenames:\n",
    "    with open(file, encoding='utf-8') as f:\n",
    "        guide_documents.append(' '.join(f.read().splitlines()))\n",
    "    \n",
    "# lemmatize each document \n",
    "lemm_guide_docs = [cleaning.lemmatize(cleaning.clean_text(doc), lemmatizer) for doc in guide_documents]\n",
    "\n",
    "# for each lemmatized document, write to new filepath\n",
    "for i in range(len(lemm_guide_docs)):\n",
    "    new_filepath = '../data/topics/lemm_topics' + guide_filenames[i].split('raw_topics')[1]\n",
    "    with open(new_filepath, 'w', encoding='utf-8') as f:\n",
    "        f.write(lemm_guide_docs[i])"
   ]
  },
  {
   "cell_type": "markdown",
   "source": [
    "## Lemmatize Guide Words\n",
    "\n",
    "Here, I lemmatize the guide words which were manually extracted from the guide document. The lemmatized\n",
    "form of the guide words are written to a file."
   ],
   "metadata": {
    "collapsed": false,
    "pycharm": {
     "name": "#%% md\n"
    }
   }
  },
  {
   "cell_type": "code",
   "execution_count": 17,
   "metadata": {
    "pycharm": {
     "name": "#%%\n"
    }
   },
   "outputs": [],
   "source": [
    "import os \n",
    "\n",
    "basic_guide_words = [['acting', 'actor', 'actress', 'character', 'performance', 'convincing', 'multidimensional', 'authentic', 'portray'], # acting\n",
    "                    ['attraction', 'premise', 'entertainment', 'interesting', 'pitch', 'amuse', 'enjoy', 'fun'], # attraction\n",
    "                    ['cinematography', 'visual', 'lighting', 'setting', 'wardrobe', 'camera', 'angles', 'view', 'frame', 'shot', 'aesthetic'], # cinematography\n",
    "                    ['dialogue', 'storytelling', 'context', 'story', 'monologue', 'speech', 'express'], # dialogue\n",
    "                    ['directing', 'style', 'execution', 'vision', 'creativity', 'perfect'], # directing\n",
    "                    ['editing', 'effects', 'tone', 'vfx', 'sfx', 'animation', 'cgi'], # editing and effects\n",
    "                    ['original', 'innovative', 'best', 'beyond', 'amazing', 'memorable', 'unique', 'special', 'experience'], # it factor\n",
    "                    ['plot', 'story', 'arc', 'plausibility', 'structure', 'world', 'pace'], # plot \n",
    "                    ['sound', 'music', 'harmony', 'mood', 'song', 'soul', 'volume', 'mix'], # sound and music\n",
    "                    ['theme', 'identity', 'intrigue', 'message', 'powerful', 'meaning', 'emotional', 'thoughtful', 'bond']] # theme\n",
    "\n",
    "# lemmatize all guide words \n",
    "lemm_basic_guide_words = [cleaning.lemmatize(' '.join(row), lemmatizer) for row in basic_guide_words]\n",
    "\n",
    "# write lemmatized guide words to text file\n",
    "lemm_guide_words_filepath = '../data/topics/lemm_guide_words.txt'\n",
    "\n",
    "if os.path.exists(lemm_guide_words_filepath):\n",
    "    os.remove(lemm_guide_words_filepath)\n",
    "\n",
    "with open(lemm_guide_words_filepath, 'a', encoding='utf-8') as f: \n",
    "    [f.write(topic_words + '\\n') for topic_words in lemm_basic_guide_words]\n"
   ]
  }
 ],
 "metadata": {
  "kernelspec": {
   "name": "pycharm-e4b9277d",
   "language": "python",
   "display_name": "PyCharm (movie-preference-predictor)"
  },
  "language_info": {
   "codemirror_mode": {
    "name": "ipython",
    "version": 3
   },
   "file_extension": ".py",
   "mimetype": "text/x-python",
   "name": "python",
   "nbconvert_exporter": "python",
   "pygments_lexer": "ipython3",
   "version": "3.9.1"
  }
 },
 "nbformat": 4,
 "nbformat_minor": 4
}