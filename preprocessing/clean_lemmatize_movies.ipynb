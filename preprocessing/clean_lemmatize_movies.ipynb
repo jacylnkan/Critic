{
 "cells": [
  {
   "cell_type": "code",
   "execution_count": 1,
   "metadata": {
    "collapsed": true
   },
   "outputs": [],
   "source": [
    "import pandas as pd\n",
    "import numpy as np"
   ]
  },
  {
   "cell_type": "markdown",
   "source": [
    "## Read Data\n",
    "\n",
    "In this section, we read in the `movie` dataframe, which contains information about each movie title.\n",
    "\n",
    "The `movies` dataframe consists of 9 columns:\n",
    "\n",
    " * `tconst` - unique id of a movie\n",
    " * `primaryTitle` - title of the movie\n",
    " * `isAdult` - 0 or 1, indicating whether a movie is rated for adults or not\n",
    " * `startYear` - release year of the movie\n",
    " * `runtimeMinutes` - runtime of the movie, in minutes\n",
    " * `genres` - genres of the movie\n",
    " * `primaryName` - names of prominent cast/crew members\n",
    " * `category` - categories (roles) of cast/crew members specified in `primaryName`\n",
    " * `characters` - characters played by cast/crew members (if no character played by a member, then will be an empty string)"
   ],
   "metadata": {
    "collapsed": false,
    "pycharm": {
     "name": "#%% md\n"
    }
   }
  },
  {
   "cell_type": "code",
   "execution_count": 2,
   "outputs": [
    {
     "data": {
      "text/plain": "      tconst                    primaryTitle  isAdult  startYear  \\\n0  tt0000009                      Miss Jerry        0       1894   \n1  tt0000502                        Bohemios        0       1905   \n2  tt0000574     The Story of the Kelly Gang        0       1906   \n3  tt0000679  The Fairylogue and Radio-Plays        0       1908   \n4  tt0001184         Don Juan de Serrallonga        0       1910   \n\n   runtimeMinutes                 genres  \\\n0              45                Romance   \n1             100                     \\N   \n2              70  Biography,Crime,Drama   \n3             120      Adventure,Fantasy   \n4              58        Adventure,Drama   \n\n                                         primaryName  \\\n0  ['Blanche Bayliss', 'Alexander Black', 'Willia...   \n1  ['Ricardo de Baños', 'Antonio del Pozo', 'El M...   \n2  ['Bella Cola', 'Charles Tait', 'Elizabeth Tait...   \n3  ['L. Frank Baum', 'Francis Boggs', 'Frank Burn...   \n4  ['Ricardo de Baños', 'Alberto Marro', 'Dolores...   \n\n                                            category  \\\n0          ['actress', 'director', 'actor', 'actor']   \n1                     ['director', 'actor', 'actor']   \n2  ['actress', 'director', 'actress', 'actor', 'c...   \n3  ['actor', 'director', 'actor', 'composer', 'di...   \n4       ['director', 'director', 'actress', 'actor']   \n\n                                          characters  \n0  ['[\"Miss Geraldine Holbrook (Miss Jerry)\"]', '...  \n1                              ['\\\\N', '\\\\N', '\\\\N']  \n2  ['\\\\N', '\\\\N', '[\"Kate Kelly\"]', '[\"School Mas...  \n3  ['[\"The Wizard of Oz Man\"]', '\\\\N', '[\"His Maj...  \n4                       ['\\\\N', '\\\\N', '\\\\N', '\\\\N']  ",
      "text/html": "<div>\n<style scoped>\n    .dataframe tbody tr th:only-of-type {\n        vertical-align: middle;\n    }\n\n    .dataframe tbody tr th {\n        vertical-align: top;\n    }\n\n    .dataframe thead th {\n        text-align: right;\n    }\n</style>\n<table border=\"1\" class=\"dataframe\">\n  <thead>\n    <tr style=\"text-align: right;\">\n      <th></th>\n      <th>tconst</th>\n      <th>primaryTitle</th>\n      <th>isAdult</th>\n      <th>startYear</th>\n      <th>runtimeMinutes</th>\n      <th>genres</th>\n      <th>primaryName</th>\n      <th>category</th>\n      <th>characters</th>\n    </tr>\n  </thead>\n  <tbody>\n    <tr>\n      <th>0</th>\n      <td>tt0000009</td>\n      <td>Miss Jerry</td>\n      <td>0</td>\n      <td>1894</td>\n      <td>45</td>\n      <td>Romance</td>\n      <td>['Blanche Bayliss', 'Alexander Black', 'Willia...</td>\n      <td>['actress', 'director', 'actor', 'actor']</td>\n      <td>['[\"Miss Geraldine Holbrook (Miss Jerry)\"]', '...</td>\n    </tr>\n    <tr>\n      <th>1</th>\n      <td>tt0000502</td>\n      <td>Bohemios</td>\n      <td>0</td>\n      <td>1905</td>\n      <td>100</td>\n      <td>\\N</td>\n      <td>['Ricardo de Baños', 'Antonio del Pozo', 'El M...</td>\n      <td>['director', 'actor', 'actor']</td>\n      <td>['\\\\N', '\\\\N', '\\\\N']</td>\n    </tr>\n    <tr>\n      <th>2</th>\n      <td>tt0000574</td>\n      <td>The Story of the Kelly Gang</td>\n      <td>0</td>\n      <td>1906</td>\n      <td>70</td>\n      <td>Biography,Crime,Drama</td>\n      <td>['Bella Cola', 'Charles Tait', 'Elizabeth Tait...</td>\n      <td>['actress', 'director', 'actress', 'actor', 'c...</td>\n      <td>['\\\\N', '\\\\N', '[\"Kate Kelly\"]', '[\"School Mas...</td>\n    </tr>\n    <tr>\n      <th>3</th>\n      <td>tt0000679</td>\n      <td>The Fairylogue and Radio-Plays</td>\n      <td>0</td>\n      <td>1908</td>\n      <td>120</td>\n      <td>Adventure,Fantasy</td>\n      <td>['L. Frank Baum', 'Francis Boggs', 'Frank Burn...</td>\n      <td>['actor', 'director', 'actor', 'composer', 'di...</td>\n      <td>['[\"The Wizard of Oz Man\"]', '\\\\N', '[\"His Maj...</td>\n    </tr>\n    <tr>\n      <th>4</th>\n      <td>tt0001184</td>\n      <td>Don Juan de Serrallonga</td>\n      <td>0</td>\n      <td>1910</td>\n      <td>58</td>\n      <td>Adventure,Drama</td>\n      <td>['Ricardo de Baños', 'Alberto Marro', 'Dolores...</td>\n      <td>['director', 'director', 'actress', 'actor']</td>\n      <td>['\\\\N', '\\\\N', '\\\\N', '\\\\N']</td>\n    </tr>\n  </tbody>\n</table>\n</div>"
     },
     "execution_count": 2,
     "metadata": {},
     "output_type": "execute_result"
    }
   ],
   "source": [
    "movies = pd.read_csv('../movies.csv', index_col=0)\n",
    "movies.head()"
   ],
   "metadata": {
    "collapsed": false,
    "pycharm": {
     "name": "#%%\n"
    }
   }
  },
  {
   "cell_type": "markdown",
   "source": [
    "## Clean Movie Information\n",
    "\n",
    "Currently, some rows in `movies` may have punctuation, uppercases, and digits in the `primaryTitle`, `genres`, `primaryName`,\n",
    "`category` and `characters` columns. We must remove these as part of the preprocessing step.\n",
    "\n",
    "As the `genres`, `primaryName`, `category` and `characters` columns may consist of a list of values, we want to ensure\n",
    "that each item is separated by a `,`. The `characters` column in particular may have multiple character names per\n",
    "item (as each item in this list refers to one cast/crew member). These characters will be separated by a `/`.\n",
    "Some cast/crew members may not have a character associated, so for the corresponding item, the value in the list will\n",
    "be an empty string."
   ],
   "metadata": {
    "collapsed": false,
    "pycharm": {
     "name": "#%% md\n"
    }
   }
  },
  {
   "cell_type": "code",
   "execution_count": 24,
   "outputs": [],
   "source": [
    "import re\n",
    "import shared_functions.cleaning as cleaning\n",
    "\n",
    "def update_movie_with_clean_text(row):\n",
    "    \"\"\"\n",
    "    Updates the given row with clean text for its primaryTitle, genres, primaryName, category\n",
    "    and character columns.\n",
    "\n",
    "    Parameters:\n",
    "    row (Series): row that contains unclean text\n",
    "\n",
    "    Returns:\n",
    "    Row with cleaned text for the aforementioned columns.\n",
    "\n",
    "   \"\"\"\n",
    "    # retrieve cleaned version of the title of the movie\n",
    "    row.primaryTitle = cleaning.clean_text(row.primaryTitle)\n",
    "\n",
    "    # if there are no genres given, put nan. else, retrieve genres in the form \"romance,drama,tragedy\"\n",
    "    if row.genres == '\\\\N':\n",
    "        row.genres = np.nan\n",
    "    else:\n",
    "        row.genres = ','.join([cleaning.clean_text(g) for g in row.genres.split(',')])\n",
    "\n",
    "    # retrieve cast & crew in the form \"john doe,jane doe,bob smith\"\n",
    "    row.primaryName = ','.join([cleaning.clean_text(n) for n in row.primaryName.split(',')])\n",
    "\n",
    "    # retrieve jobs of the cast & crew in the form \"director,actor,actress\"\n",
    "    row.category = ','.join([cleaning.clean_text(n) for n in row.category.split(',')])\n",
    "\n",
    "    cleaned_characters = []\n",
    "\n",
    "    # will give the roles (character names) portrayed by each actor (in a list)\n",
    "    # if a cast/crew member does not play a character role, gives an empty string\n",
    "    actor_roles = re.findall('\\[\"(.*?)\"\\]|\\\\\\\\N', row.characters[1:-1])\n",
    "\n",
    "    for role in actor_roles:\n",
    "        # retrieve characters portrayed by this actor in the form \"lucy/annie/sophie\"\n",
    "        # takes into acct other characters (\",\") or alternate names (\"()\" or \"-\")\n",
    "        cleaned_characters.append('/'.join([cleaning.clean_text(char).strip() for r in role.split(',') for char in re.split(' - | \\(', r)]))\n",
    "\n",
    "    row.characters = ','.join(cleaned_characters)\n",
    "    print(row.characters)\n",
    "    return row"
   ],
   "metadata": {
    "collapsed": false,
    "pycharm": {
     "name": "#%%\n"
    }
   }
  },
  {
   "cell_type": "code",
   "execution_count": 28,
   "outputs": [
    {
     "data": {
      "text/plain": "      tconst                   primaryTitle  isAdult  startYear  \\\n0  tt0000009                     miss jerry        0       1894   \n1  tt0000502                       bohemios        0       1905   \n2  tt0000574    the story of the kelly gang        0       1906   \n3  tt0000679  the fairylogue and radioplays        0       1908   \n4  tt0001184        don juan de serrallonga        0       1910   \n\n   runtimeMinutes                 genres  \\\n0              45                romance   \n1             100                    NaN   \n2              70  biography,crime,drama   \n3             120      adventure,fantasy   \n4              58        adventure,drama   \n\n                                         primaryName  \\\n0  blanche bayliss,alexander black,william courte...   \n1      ricardo de baños,antonio del pozo,el mochuelo   \n2  bella cola,charles tait,elizabeth tait,john ta...   \n3  l frank baum,francis boggs,frank burns,nathani...   \n4  ricardo de baños,alberto marro,dolores puchol,...   \n\n                                            category  \\\n0                       actress,director,actor,actor   \n1                               director,actor,actor   \n2      actress,director,actress,actor,composer,actor   \n3  actor,director,actor,composer,director,actor,a...   \n4                    director,director,actress,actor   \n\n                                          characters  \n0  miss geraldine holbrook/miss jerry,,mr hamilto...  \n1                                                 ,,  \n2             ,,kate kelly,school master,,steve hart  \n3  the wizard of oz man,,his majesty the scarecro...  \n4                                                ,,,  ",
      "text/html": "<div>\n<style scoped>\n    .dataframe tbody tr th:only-of-type {\n        vertical-align: middle;\n    }\n\n    .dataframe tbody tr th {\n        vertical-align: top;\n    }\n\n    .dataframe thead th {\n        text-align: right;\n    }\n</style>\n<table border=\"1\" class=\"dataframe\">\n  <thead>\n    <tr style=\"text-align: right;\">\n      <th></th>\n      <th>tconst</th>\n      <th>primaryTitle</th>\n      <th>isAdult</th>\n      <th>startYear</th>\n      <th>runtimeMinutes</th>\n      <th>genres</th>\n      <th>primaryName</th>\n      <th>category</th>\n      <th>characters</th>\n    </tr>\n  </thead>\n  <tbody>\n    <tr>\n      <th>0</th>\n      <td>tt0000009</td>\n      <td>miss jerry</td>\n      <td>0</td>\n      <td>1894</td>\n      <td>45</td>\n      <td>romance</td>\n      <td>blanche bayliss,alexander black,william courte...</td>\n      <td>actress,director,actor,actor</td>\n      <td>miss geraldine holbrook/miss jerry,,mr hamilto...</td>\n    </tr>\n    <tr>\n      <th>1</th>\n      <td>tt0000502</td>\n      <td>bohemios</td>\n      <td>0</td>\n      <td>1905</td>\n      <td>100</td>\n      <td>NaN</td>\n      <td>ricardo de baños,antonio del pozo,el mochuelo</td>\n      <td>director,actor,actor</td>\n      <td>,,</td>\n    </tr>\n    <tr>\n      <th>2</th>\n      <td>tt0000574</td>\n      <td>the story of the kelly gang</td>\n      <td>0</td>\n      <td>1906</td>\n      <td>70</td>\n      <td>biography,crime,drama</td>\n      <td>bella cola,charles tait,elizabeth tait,john ta...</td>\n      <td>actress,director,actress,actor,composer,actor</td>\n      <td>,,kate kelly,school master,,steve hart</td>\n    </tr>\n    <tr>\n      <th>3</th>\n      <td>tt0000679</td>\n      <td>the fairylogue and radioplays</td>\n      <td>0</td>\n      <td>1908</td>\n      <td>120</td>\n      <td>adventure,fantasy</td>\n      <td>l frank baum,francis boggs,frank burns,nathani...</td>\n      <td>actor,director,actor,composer,director,actor,a...</td>\n      <td>the wizard of oz man,,his majesty the scarecro...</td>\n    </tr>\n    <tr>\n      <th>4</th>\n      <td>tt0001184</td>\n      <td>don juan de serrallonga</td>\n      <td>0</td>\n      <td>1910</td>\n      <td>58</td>\n      <td>adventure,drama</td>\n      <td>ricardo de baños,alberto marro,dolores puchol,...</td>\n      <td>director,director,actress,actor</td>\n      <td>,,,</td>\n    </tr>\n  </tbody>\n</table>\n</div>"
     },
     "execution_count": 28,
     "metadata": {},
     "output_type": "execute_result"
    }
   ],
   "source": [
    "# # write the cleaned movies to csv\n",
    "# clean_movies = pd.DataFrame([update_movie_with_clean_text(row) for _, row in movies.iloc[:3, :].iterrows()])\n",
    "# clean_movies.to_csv('../clean_movies.csv')\n",
    "\n",
    "clean_movies = pd.read_csv('../clean_movies.csv', index_col=0)\n",
    "clean_movies.head()"
   ],
   "metadata": {
    "collapsed": false,
    "pycharm": {
     "name": "#%%\n"
    }
   }
  },
  {
   "cell_type": "markdown",
   "source": [
    "## Create Movie Mapping\n",
    "\n",
    "As reviews may contain words unique to the movie such as names of the cast/crew or title of the movie, we want to create\n",
    "a mapping of these terms to more generic words such as \"actor\" or \"actress\". We create a dictionary mapping of such words\n",
    "for each movie below.\n",
    "\n",
    "In additional to mapping the film title and full name of the cast/crew to a more generic term, we also map the last name\n",
    "of a cast/crew member to their role as such individuals are often referred to by their last names only."
   ],
   "metadata": {
    "collapsed": false,
    "pycharm": {
     "name": "#%% md\n"
    }
   }
  },
  {
   "cell_type": "code",
   "execution_count": 71,
   "outputs": [],
   "source": [
    "def create_mapping(movie_row):\n",
    "    \"\"\"\n",
    "    Creates a mapping between key words (title, cast/crew names) in this movie and their replacement.\n",
    "\n",
    "    For topic modelling purposes, it is preferred that the title of the movie, cast/crew names and character names\n",
    "    be replaced with a generic word (either \"movie\" or that cast/crew/character's role in the movie.) By doing this, we\n",
    "    can more easily detect when a user is referring to an actor/actress's performance, the director's choices, etc.\n",
    "\n",
    "    Parameters:\n",
    "    movie_row (Series):\n",
    "\n",
    "    Returns:\n",
    "    Mapping (dictionary) of a word and its replacement.\n",
    "\n",
    "   \"\"\"\n",
    "    # get the tconst, title, cast/crew names, categories (actor, director, etc.) and character names from movie\n",
    "    tconst, title, cast_crew, categories, characters = get_movie_attributes(movie_row)\n",
    "\n",
    "    # # removing empty strings from cast/crew list\n",
    "    # cast_crew = [c for c in cast_crew if c]\n",
    "\n",
    "    # intially map each cast/crew member to their category\n",
    "    movie_mapping = dict(zip(cast_crew, categories))\n",
    "\n",
    "    # map the title of the movie to \"movie\"\n",
    "    movie_mapping[title] = 'movie'\n",
    "\n",
    "    for i in range(len(cast_crew)):\n",
    "        try:\n",
    "            # map the last name of each cast/crew member to their category\n",
    "            last_name = cast_crew[i].split()[-1]\n",
    "            movie_mapping[last_name] = categories[i]\n",
    "        except:\n",
    "            pass\n",
    "\n",
    "        try:\n",
    "            # an actor/actress may perform multiple roles, separated by a \"/\"\n",
    "            # each character they play is mapped to the actor/actress's category\n",
    "            for c in characters[i].split('/'):\n",
    "                if c:\n",
    "                    movie_mapping[c] = categories[i]\n",
    "        except:\n",
    "            pass\n",
    "\n",
    "    return {'tconst': tconst, 'mapping': movie_mapping}\n",
    "\n",
    "def get_movie_attributes(movie_row):\n",
    "    \"\"\"\n",
    "    Gives the title, list of cast & crew, list of categories of the cast & crew (e.g. director, actress, etc.) and\n",
    "    the characters each cast/crew member played.\n",
    "\n",
    "    If the cast/crew member does not play a character, then the list at that index will be an empty string.\n",
    "    An actor/actress may play several characters. If so, the character names will be separated by a \"/\" at the\n",
    "    same index.\n",
    "\n",
    "    Parameters:\n",
    "    movie (Series): row that contains the title of the movie, string containing all cast/crew members, string\n",
    "    containing their category and string containing what character they play.\n",
    "\n",
    "    Returns:\n",
    "    title of movie, list of cast and crew, list of categories, list of characters\n",
    "\n",
    "   \"\"\"\n",
    "    tconst = movie_row.tconst\n",
    "    title = movie_row.primaryTitle\n",
    "    cast_crew = movie_row.primaryName.split(',')\n",
    "    categories = movie_row.category.split(',')\n",
    "    characters = movie_row.characters\n",
    "    if isinstance(characters, str):\n",
    "        characters = characters.split(',')\n",
    "    return tconst, title, cast_crew, categories, characters\n"
   ],
   "metadata": {
    "collapsed": false,
    "pycharm": {
     "name": "#%%\n"
    }
   }
  },
  {
   "cell_type": "code",
   "execution_count": 76,
   "outputs": [],
   "source": [
    "mapping = pd.DataFrame([create_mapping(row) for _, row in clean_movies.iterrows()])\n",
    "mapping.to_pickle('../pickles/movie_mapping.pickle')\n"
   ],
   "metadata": {
    "collapsed": false,
    "pycharm": {
     "name": "#%%\n"
    }
   }
  }
 ],
 "metadata": {
  "kernelspec": {
   "name": "pycharm-e4b9277d",
   "language": "python",
   "display_name": "PyCharm (movie-preference-predictor)"
  },
  "language_info": {
   "codemirror_mode": {
    "name": "ipython",
    "version": 2
   },
   "file_extension": ".py",
   "mimetype": "text/x-python",
   "name": "python",
   "nbconvert_exporter": "python",
   "pygments_lexer": "ipython2",
   "version": "2.7.6"
  }
 },
 "nbformat": 4,
 "nbformat_minor": 0
}