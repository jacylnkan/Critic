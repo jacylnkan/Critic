{
 "cells": [
  {
   "cell_type": "code",
   "execution_count": 2,
   "metadata": {},
   "outputs": [],
   "source": [
    "import pandas as pd\n",
    "import numpy as np"
   ]
  },
  {
   "cell_type": "markdown",
   "metadata": {},
   "source": [
    "## Read Data\n",
    "\n",
    "In this section, we read in two csvs that contain data we have webscraped and data we have retrieved and consolidated from https://www.imdb.com/interfaces/. \n",
    "\n",
    "The `reviews` dataframe consists of 4 columns:\n",
    "* `tconst` - unique id of a movie \n",
    "* `username` - username of the user who left a rating/review for this movie\n",
    "* `rating` - user's rating for the movie out of 10 (1 being the lowest, 10 being the highest) \n",
    "* `review` - user's textual review of the movie \n",
    "\n",
    "The `movies` dataframe consists of 9 columns:\n",
    "\n",
    " * `tconst` - unique id of a movie \n",
    " * `primaryTitle` - title of the movie \n",
    " * `isAdult` - 0 or 1, indicating whether a movie is rated for adults or not\n",
    " * `startYear` - release year of the movie \n",
    " * `runtimeMinutes` - runtime of the movie, in minutes \n",
    " * `genres` - genres of the movie\n",
    " * `primaryName` - names of prominent cast/crew members \n",
    " * `category` - categories (roles) of cast/crew members specified in `primaryName`\n",
    " * `characters` - characters played by cast/crew members (if no character played by a member, then will be an empty string)"
   ]
  },
  {
   "cell_type": "code",
   "execution_count": 10,
   "metadata": {},
   "outputs": [
    {
     "data": {
      "text/plain": "      tconst                username rating  \\\n0  tt0000574               David-240  10/10   \n1  tt0000574  F Gwynplaine MacIntyre  10/10   \n2  tt0000574               ackstasis   9/10   \n3  tt0000574               Ziggy5446  10/10   \n4  tt0000574            Fella_shibby   8/10   \n\n                                              review  \n0  THE STORY OF THE KELLY GANG is believed to be ...  \n1  This afternoon at the Barbican, I attended the...  \n2  'The Story of the Kelly Gang' is undoubtedly o...  \n3  The Story of the Kelly Gang (1906) symbolizes ...  \n4  This is the original n the first account of Ne...  ",
      "text/html": "<div>\n<style scoped>\n    .dataframe tbody tr th:only-of-type {\n        vertical-align: middle;\n    }\n\n    .dataframe tbody tr th {\n        vertical-align: top;\n    }\n\n    .dataframe thead th {\n        text-align: right;\n    }\n</style>\n<table border=\"1\" class=\"dataframe\">\n  <thead>\n    <tr style=\"text-align: right;\">\n      <th></th>\n      <th>tconst</th>\n      <th>username</th>\n      <th>rating</th>\n      <th>review</th>\n    </tr>\n  </thead>\n  <tbody>\n    <tr>\n      <th>0</th>\n      <td>tt0000574</td>\n      <td>David-240</td>\n      <td>10/10</td>\n      <td>THE STORY OF THE KELLY GANG is believed to be ...</td>\n    </tr>\n    <tr>\n      <th>1</th>\n      <td>tt0000574</td>\n      <td>F Gwynplaine MacIntyre</td>\n      <td>10/10</td>\n      <td>This afternoon at the Barbican, I attended the...</td>\n    </tr>\n    <tr>\n      <th>2</th>\n      <td>tt0000574</td>\n      <td>ackstasis</td>\n      <td>9/10</td>\n      <td>'The Story of the Kelly Gang' is undoubtedly o...</td>\n    </tr>\n    <tr>\n      <th>3</th>\n      <td>tt0000574</td>\n      <td>Ziggy5446</td>\n      <td>10/10</td>\n      <td>The Story of the Kelly Gang (1906) symbolizes ...</td>\n    </tr>\n    <tr>\n      <th>4</th>\n      <td>tt0000574</td>\n      <td>Fella_shibby</td>\n      <td>8/10</td>\n      <td>This is the original n the first account of Ne...</td>\n    </tr>\n  </tbody>\n</table>\n</div>"
     },
     "execution_count": 10,
     "metadata": {},
     "output_type": "execute_result"
    }
   ],
   "source": [
    "number = 5933\n",
    "reviews = pd.read_csv(f'../data/reviews/raw_reviews/raw_reviews_{number}.csv')\n",
    "reviews.head()"
   ]
  },
  {
   "cell_type": "code",
   "execution_count": 9,
   "metadata": {},
   "outputs": [
    {
     "data": {
      "text/plain": "      tconst                    primaryTitle  isAdult  startYear  \\\n0  tt0000009                      Miss Jerry        0       1894   \n1  tt0000502                        Bohemios        0       1905   \n2  tt0000574     The Story of the Kelly Gang        0       1906   \n3  tt0000679  The Fairylogue and Radio-Plays        0       1908   \n4  tt0001184         Don Juan de Serrallonga        0       1910   \n\n   runtimeMinutes                 genres  \\\n0              45                Romance   \n1             100                     \\N   \n2              70  Biography,Crime,Drama   \n3             120      Adventure,Fantasy   \n4              58        Adventure,Drama   \n\n                                         primaryName  \\\n0  ['Blanche Bayliss', 'Alexander Black', 'Willia...   \n1  ['Ricardo de Baños', 'Antonio del Pozo', 'El M...   \n2  ['Bella Cola', 'Charles Tait', 'Elizabeth Tait...   \n3  ['L. Frank Baum', 'Francis Boggs', 'Frank Burn...   \n4  ['Ricardo de Baños', 'Alberto Marro', 'Dolores...   \n\n                                            category  \\\n0          ['actress', 'director', 'actor', 'actor']   \n1                     ['director', 'actor', 'actor']   \n2  ['actress', 'director', 'actress', 'actor', 'c...   \n3  ['actor', 'director', 'actor', 'composer', 'di...   \n4       ['director', 'director', 'actress', 'actor']   \n\n                                          characters  \n0  ['[\"Miss Geraldine Holbrook (Miss Jerry)\"]', '...  \n1                              ['\\\\N', '\\\\N', '\\\\N']  \n2  ['\\\\N', '\\\\N', '[\"Kate Kelly\"]', '[\"School Mas...  \n3  ['[\"The Wizard of Oz Man\"]', '\\\\N', '[\"His Maj...  \n4                       ['\\\\N', '\\\\N', '\\\\N', '\\\\N']  ",
      "text/html": "<div>\n<style scoped>\n    .dataframe tbody tr th:only-of-type {\n        vertical-align: middle;\n    }\n\n    .dataframe tbody tr th {\n        vertical-align: top;\n    }\n\n    .dataframe thead th {\n        text-align: right;\n    }\n</style>\n<table border=\"1\" class=\"dataframe\">\n  <thead>\n    <tr style=\"text-align: right;\">\n      <th></th>\n      <th>tconst</th>\n      <th>primaryTitle</th>\n      <th>isAdult</th>\n      <th>startYear</th>\n      <th>runtimeMinutes</th>\n      <th>genres</th>\n      <th>primaryName</th>\n      <th>category</th>\n      <th>characters</th>\n    </tr>\n  </thead>\n  <tbody>\n    <tr>\n      <th>0</th>\n      <td>tt0000009</td>\n      <td>Miss Jerry</td>\n      <td>0</td>\n      <td>1894</td>\n      <td>45</td>\n      <td>Romance</td>\n      <td>['Blanche Bayliss', 'Alexander Black', 'Willia...</td>\n      <td>['actress', 'director', 'actor', 'actor']</td>\n      <td>['[\"Miss Geraldine Holbrook (Miss Jerry)\"]', '...</td>\n    </tr>\n    <tr>\n      <th>1</th>\n      <td>tt0000502</td>\n      <td>Bohemios</td>\n      <td>0</td>\n      <td>1905</td>\n      <td>100</td>\n      <td>\\N</td>\n      <td>['Ricardo de Baños', 'Antonio del Pozo', 'El M...</td>\n      <td>['director', 'actor', 'actor']</td>\n      <td>['\\\\N', '\\\\N', '\\\\N']</td>\n    </tr>\n    <tr>\n      <th>2</th>\n      <td>tt0000574</td>\n      <td>The Story of the Kelly Gang</td>\n      <td>0</td>\n      <td>1906</td>\n      <td>70</td>\n      <td>Biography,Crime,Drama</td>\n      <td>['Bella Cola', 'Charles Tait', 'Elizabeth Tait...</td>\n      <td>['actress', 'director', 'actress', 'actor', 'c...</td>\n      <td>['\\\\N', '\\\\N', '[\"Kate Kelly\"]', '[\"School Mas...</td>\n    </tr>\n    <tr>\n      <th>3</th>\n      <td>tt0000679</td>\n      <td>The Fairylogue and Radio-Plays</td>\n      <td>0</td>\n      <td>1908</td>\n      <td>120</td>\n      <td>Adventure,Fantasy</td>\n      <td>['L. Frank Baum', 'Francis Boggs', 'Frank Burn...</td>\n      <td>['actor', 'director', 'actor', 'composer', 'di...</td>\n      <td>['[\"The Wizard of Oz Man\"]', '\\\\N', '[\"His Maj...</td>\n    </tr>\n    <tr>\n      <th>4</th>\n      <td>tt0001184</td>\n      <td>Don Juan de Serrallonga</td>\n      <td>0</td>\n      <td>1910</td>\n      <td>58</td>\n      <td>Adventure,Drama</td>\n      <td>['Ricardo de Baños', 'Alberto Marro', 'Dolores...</td>\n      <td>['director', 'director', 'actress', 'actor']</td>\n      <td>['\\\\N', '\\\\N', '\\\\N', '\\\\N']</td>\n    </tr>\n  </tbody>\n</table>\n</div>"
     },
     "execution_count": 9,
     "metadata": {},
     "output_type": "execute_result"
    }
   ],
   "source": [
    "movies = pd.read_csv('../movies.csv', index_col=0)\n",
    "movies.head()"
   ]
  },
  {
   "cell_type": "markdown",
   "metadata": {},
   "source": [
    "## Filter to Include Only English Reviews\n",
    "\n",
    "Analysis will only be done on english reviews, as later procedures such as lemmatization and topic modelling will be english-focused. \n",
    "\n",
    "Below, we wil filter the rows such that only the ones with english reviews are kept. "
   ]
  },
  {
   "cell_type": "code",
   "execution_count": 11,
   "metadata": {
    "scrolled": false
   },
   "outputs": [
    {
     "data": {
      "text/plain": "          tconst                username rating  \\\n0      tt0000574               David-240  10/10   \n1      tt0000574  F Gwynplaine MacIntyre  10/10   \n2      tt0000574               ackstasis   9/10   \n3      tt0000574               Ziggy5446  10/10   \n4      tt0000574            Fella_shibby   8/10   \n...          ...                     ...    ...   \n11746  tt0018621          JohnHowardReid   8/10   \n11747  tt0018621                kidboots   8/10   \n11748  tt0018621  F Gwynplaine MacIntyre   7/10   \n11749  tt0018638            cliffperriam   8/10   \n11750  tt0018639  F Gwynplaine MacIntyre   6/10   \n\n                                                  review  \n0      THE STORY OF THE KELLY GANG is believed to be ...  \n1      This afternoon at the Barbican, I attended the...  \n2      'The Story of the Kelly Gang' is undoubtedly o...  \n3      The Story of the Kelly Gang (1906) symbolizes ...  \n4      This is the original n the first account of Ne...  \n...                                                  ...  \n11746  Paramount groomed super-beautiful Lila Lee as ...  \n11747  Lila Lee seemed to be in every other movie dur...  \n11748  Lila Lee was an attractive and talented actres...  \n11749  ALIAS JIMMY VALENTINE exists as a 4-reel silen...  \n11750  I was eager to see 'Alias the Deacon' because ...  \n\n[11748 rows x 4 columns]",
      "text/html": "<div>\n<style scoped>\n    .dataframe tbody tr th:only-of-type {\n        vertical-align: middle;\n    }\n\n    .dataframe tbody tr th {\n        vertical-align: top;\n    }\n\n    .dataframe thead th {\n        text-align: right;\n    }\n</style>\n<table border=\"1\" class=\"dataframe\">\n  <thead>\n    <tr style=\"text-align: right;\">\n      <th></th>\n      <th>tconst</th>\n      <th>username</th>\n      <th>rating</th>\n      <th>review</th>\n    </tr>\n  </thead>\n  <tbody>\n    <tr>\n      <th>0</th>\n      <td>tt0000574</td>\n      <td>David-240</td>\n      <td>10/10</td>\n      <td>THE STORY OF THE KELLY GANG is believed to be ...</td>\n    </tr>\n    <tr>\n      <th>1</th>\n      <td>tt0000574</td>\n      <td>F Gwynplaine MacIntyre</td>\n      <td>10/10</td>\n      <td>This afternoon at the Barbican, I attended the...</td>\n    </tr>\n    <tr>\n      <th>2</th>\n      <td>tt0000574</td>\n      <td>ackstasis</td>\n      <td>9/10</td>\n      <td>'The Story of the Kelly Gang' is undoubtedly o...</td>\n    </tr>\n    <tr>\n      <th>3</th>\n      <td>tt0000574</td>\n      <td>Ziggy5446</td>\n      <td>10/10</td>\n      <td>The Story of the Kelly Gang (1906) symbolizes ...</td>\n    </tr>\n    <tr>\n      <th>4</th>\n      <td>tt0000574</td>\n      <td>Fella_shibby</td>\n      <td>8/10</td>\n      <td>This is the original n the first account of Ne...</td>\n    </tr>\n    <tr>\n      <th>...</th>\n      <td>...</td>\n      <td>...</td>\n      <td>...</td>\n      <td>...</td>\n    </tr>\n    <tr>\n      <th>11746</th>\n      <td>tt0018621</td>\n      <td>JohnHowardReid</td>\n      <td>8/10</td>\n      <td>Paramount groomed super-beautiful Lila Lee as ...</td>\n    </tr>\n    <tr>\n      <th>11747</th>\n      <td>tt0018621</td>\n      <td>kidboots</td>\n      <td>8/10</td>\n      <td>Lila Lee seemed to be in every other movie dur...</td>\n    </tr>\n    <tr>\n      <th>11748</th>\n      <td>tt0018621</td>\n      <td>F Gwynplaine MacIntyre</td>\n      <td>7/10</td>\n      <td>Lila Lee was an attractive and talented actres...</td>\n    </tr>\n    <tr>\n      <th>11749</th>\n      <td>tt0018638</td>\n      <td>cliffperriam</td>\n      <td>8/10</td>\n      <td>ALIAS JIMMY VALENTINE exists as a 4-reel silen...</td>\n    </tr>\n    <tr>\n      <th>11750</th>\n      <td>tt0018639</td>\n      <td>F Gwynplaine MacIntyre</td>\n      <td>6/10</td>\n      <td>I was eager to see 'Alias the Deacon' because ...</td>\n    </tr>\n  </tbody>\n</table>\n<p>11748 rows × 4 columns</p>\n</div>"
     },
     "execution_count": 11,
     "metadata": {},
     "output_type": "execute_result"
    }
   ],
   "source": [
    "import shared_functions.cleaning as cleaning\n",
    "\n",
    "# select only rows where the review is in valid english\n",
    "english_reviews = reviews[reviews.apply(lambda row: cleaning.valid_english(row), axis=1)]\n",
    "english_reviews"
   ]
  },
  {
   "cell_type": "markdown",
   "metadata": {},
   "source": [
    "## Clean Reviews & Movies\n",
    "\n",
    "Currently, text in `english_reviews` and `movies` have uppercases, punctuation and digits. \n",
    "\n",
    "We want to fix this in the `review` column of `english_reviews`.\n",
    "\n",
    "Additionally, we want to fix this in the `primaryTitle`, `genres`, `primaryName`, `category` and `characters` columns in `movies`. As the `genres`, `primaryName`, `category` and `characters` columns may consist of a list of values, we want to ensure that each item is separated by a `,`. The `characters` column in particular may have multiple character names per item (as each item in this list refers to one cast/crew member). These characters will be separated by a `/`. Some cast/crew members may not have a character associated, so for the corresponding item, the value in the list will be an empty string."
   ]
  },
  {
   "cell_type": "code",
   "execution_count": 12,
   "metadata": {
    "scrolled": true
   },
   "outputs": [],
   "source": [
    "import re\n",
    "\n",
    "def update_review_with_clean_text(row):\n",
    "    \"\"\"\n",
    "    Updates the given row with clean text for its review column.\n",
    "\n",
    "    Parameters:\n",
    "    row (Series): row that contains unclean reviews\n",
    "\n",
    "    Returns:\n",
    "    Row with cleaned review. \n",
    "\n",
    "   \"\"\"\n",
    "    text = cleaning.clean_text(row.review)\n",
    "    row.review = text\n",
    "    return row\n",
    "\n",
    "def update_movie_with_clean_text(row):\n",
    "    \"\"\"\n",
    "    Updates the given row with clean text for its primaryTitle, genres, primaryName, category \n",
    "    and character columns.\n",
    "\n",
    "    Parameters:\n",
    "    row (Series): row that contains unclean text\n",
    "\n",
    "    Returns:\n",
    "    Row with cleaned text for the aforementioned columns. \n",
    "\n",
    "   \"\"\"\n",
    "    # retrieve cleaned version of the title of the movie \n",
    "    row.primaryTitle = cleaning.clean_text(row.primaryTitle)\n",
    "    \n",
    "    # if there are no genres given, put nan. else, retrieve genres in the form \"romance,drama,tragedy\"\n",
    "    if row.genres == '\\\\N':\n",
    "        row.genres = np.nan\n",
    "    else:\n",
    "        row.genres = ','.join([cleaning.clean_text(g) for g in row.genres.split(',')])\n",
    "    \n",
    "    # retrieve cast & crew in the form \"john doe,jane doe,bob smith\"\n",
    "    row.primaryName = ','.join([cleaning.clean_text(n) for n in row.primaryName.split(',')])\n",
    "    \n",
    "    # retrieve jobs of the cast & crew in the form \"director,actor,actress\"\n",
    "    row.category = ','.join([cleaning.clean_text(n) for n in row.category.split(',')])\n",
    "    \n",
    "    cleaned_characters = []\n",
    "    \n",
    "    # will give the roles (character names) portrayed by each actor (in a list)\n",
    "    # if a cast/crew member does not play a character role, gives an empty string\n",
    "    actor_roles = re.findall('\\[\"(.*?)\"\\]|\\\\\\\\N', row.characters[1:-1])\n",
    "\n",
    "    for role in actor_roles:\n",
    "        # retrieve characters portrayed by this actor in the form \"lucy/annie/sophie\"\n",
    "        # takes into acct other characters (\",\") or alternate names (\"()\" or \"-\")\n",
    "        cleaned_characters.append('/'.join([cleaning.clean_text(char).strip() for r in role.split(',') for char in re.split(' - | \\(', r)]))\n",
    "\n",
    "    row.characters = ','.join(cleaned_characters)\n",
    "        \n",
    "    return row"
   ]
  },
  {
   "cell_type": "code",
   "execution_count": 13,
   "metadata": {},
   "outputs": [
    {
     "data": {
      "text/plain": "          tconst                username rating  \\\n0      tt0000574               David-240  10/10   \n1      tt0000574  F Gwynplaine MacIntyre  10/10   \n2      tt0000574               ackstasis   9/10   \n3      tt0000574               Ziggy5446  10/10   \n4      tt0000574            Fella_shibby   8/10   \n...          ...                     ...    ...   \n11746  tt0018621          JohnHowardReid   8/10   \n11747  tt0018621                kidboots   8/10   \n11748  tt0018621  F Gwynplaine MacIntyre   7/10   \n11749  tt0018638            cliffperriam   8/10   \n11750  tt0018639  F Gwynplaine MacIntyre   6/10   \n\n                                                  review  \n0      the story of the kelly gang is believed to be ...  \n1      this afternoon at the barbican i attended the ...  \n2      the story of the kelly gang is undoubtedly one...  \n3      the story of the kelly gang  symbolizes both t...  \n4      this is the original n the first account of ne...  \n...                                                  ...  \n11746  paramount groomed superbeautiful lila lee as a...  \n11747  lila lee seemed to be in every other movie dur...  \n11748  lila lee was an attractive and talented actres...  \n11749  alias jimmy valentine exists as a reel silent ...  \n11750  i was eager to see alias the deacon because it...  \n\n[11748 rows x 4 columns]",
      "text/html": "<div>\n<style scoped>\n    .dataframe tbody tr th:only-of-type {\n        vertical-align: middle;\n    }\n\n    .dataframe tbody tr th {\n        vertical-align: top;\n    }\n\n    .dataframe thead th {\n        text-align: right;\n    }\n</style>\n<table border=\"1\" class=\"dataframe\">\n  <thead>\n    <tr style=\"text-align: right;\">\n      <th></th>\n      <th>tconst</th>\n      <th>username</th>\n      <th>rating</th>\n      <th>review</th>\n    </tr>\n  </thead>\n  <tbody>\n    <tr>\n      <th>0</th>\n      <td>tt0000574</td>\n      <td>David-240</td>\n      <td>10/10</td>\n      <td>the story of the kelly gang is believed to be ...</td>\n    </tr>\n    <tr>\n      <th>1</th>\n      <td>tt0000574</td>\n      <td>F Gwynplaine MacIntyre</td>\n      <td>10/10</td>\n      <td>this afternoon at the barbican i attended the ...</td>\n    </tr>\n    <tr>\n      <th>2</th>\n      <td>tt0000574</td>\n      <td>ackstasis</td>\n      <td>9/10</td>\n      <td>the story of the kelly gang is undoubtedly one...</td>\n    </tr>\n    <tr>\n      <th>3</th>\n      <td>tt0000574</td>\n      <td>Ziggy5446</td>\n      <td>10/10</td>\n      <td>the story of the kelly gang  symbolizes both t...</td>\n    </tr>\n    <tr>\n      <th>4</th>\n      <td>tt0000574</td>\n      <td>Fella_shibby</td>\n      <td>8/10</td>\n      <td>this is the original n the first account of ne...</td>\n    </tr>\n    <tr>\n      <th>...</th>\n      <td>...</td>\n      <td>...</td>\n      <td>...</td>\n      <td>...</td>\n    </tr>\n    <tr>\n      <th>11746</th>\n      <td>tt0018621</td>\n      <td>JohnHowardReid</td>\n      <td>8/10</td>\n      <td>paramount groomed superbeautiful lila lee as a...</td>\n    </tr>\n    <tr>\n      <th>11747</th>\n      <td>tt0018621</td>\n      <td>kidboots</td>\n      <td>8/10</td>\n      <td>lila lee seemed to be in every other movie dur...</td>\n    </tr>\n    <tr>\n      <th>11748</th>\n      <td>tt0018621</td>\n      <td>F Gwynplaine MacIntyre</td>\n      <td>7/10</td>\n      <td>lila lee was an attractive and talented actres...</td>\n    </tr>\n    <tr>\n      <th>11749</th>\n      <td>tt0018638</td>\n      <td>cliffperriam</td>\n      <td>8/10</td>\n      <td>alias jimmy valentine exists as a reel silent ...</td>\n    </tr>\n    <tr>\n      <th>11750</th>\n      <td>tt0018639</td>\n      <td>F Gwynplaine MacIntyre</td>\n      <td>6/10</td>\n      <td>i was eager to see alias the deacon because it...</td>\n    </tr>\n  </tbody>\n</table>\n<p>11748 rows × 4 columns</p>\n</div>"
     },
     "execution_count": 13,
     "metadata": {},
     "output_type": "execute_result"
    }
   ],
   "source": [
    "clean_english_reviews = pd.DataFrame([update_review_with_clean_text(row) for i, row in english_reviews.iterrows()])\n",
    "clean_english_reviews"
   ]
  },
  {
   "cell_type": "code",
   "execution_count": 15,
   "metadata": {
    "scrolled": true
   },
   "outputs": [
    {
     "data": {
      "text/plain": "           tconst                                   primaryTitle  isAdult  \\\n0       tt0000009                                     miss jerry        0   \n1       tt0000502                                       bohemios        0   \n2       tt0000574                    the story of the kelly gang        0   \n3       tt0000679                  the fairylogue and radioplays        0   \n4       tt0001184                        don juan de serrallonga        0   \n...           ...                                            ...      ...   \n409726  tt9916622     rodolpho teóphilo  o legado de um pioneiro        0   \n409727  tt9916680  de la ilusión al desconcierto cine colombiano        0   \n409728  tt9916692                 teatroteka czlowiek bez twarzy        0   \n409729  tt9916730                                           gunn        0   \n409730  tt9916754                  chico albuquerque  revelações        0   \n\n        startYear  runtimeMinutes                 genres  \\\n0            1894              45                romance   \n1            1905             100                    NaN   \n2            1906              70  biography,crime,drama   \n3            1908             120      adventure,fantasy   \n4            1910              58        adventure,drama   \n...           ...             ...                    ...   \n409726       2015              57            documentary   \n409727       2007             100            documentary   \n409728       2015              66                  drama   \n409729       2017             116                    NaN   \n409730       2013              49            documentary   \n\n                                              primaryName  \\\n0       blanche bayliss,alexander black,william courte...   \n1           ricardo de baños,antonio del pozo,el mochuelo   \n2       bella cola,charles tait,elizabeth tait,john ta...   \n3       l frank baum,francis boggs,frank burns,nathani...   \n4       ricardo de baños,alberto marro,dolores puchol,...   \n...                                                   ...   \n409726  angela gurgel,ana célia de oliveira,oldair soa...   \n409727                                        luis ospina   \n409728  zbigniew zamachowski,andrzej bartnikowski,samb...   \n409729  sunil barve,kiran gawade,bhushan pradhan,archi...   \n409730               vinicius augusto bozzo,angela gurgel   \n\n                                                 category  \\\n0                            actress,director,actor,actor   \n1                                    director,actor,actor   \n2           actress,director,actress,actor,composer,actor   \n3       actor,director,actor,composer,director,actor,a...   \n4                         director,director,actress,actor   \n...                                                   ...   \n409726                            director,director,actor   \n409727                                           director   \n409728      actor,director,actor,actress,composer,actress   \n409729                   actor,director,actor,actor,actor   \n409730                                  director,director   \n\n                                               characters  \n0       miss geraldine holbrook/miss jerry,,mr hamilto...  \n1                                                      ,,  \n2                  ,,kate kelly,school master,,steve hart  \n3       the wizard of oz man,,his majesty the scarecro...  \n4                                                     ,,,  \n...                                                   ...  \n409726                                ,,rodolpho teophilo  \n409727                                                     \n409728                    authority,,rafal,monika,,bianka  \n409729                                               ,,,,  \n409730                                                  ,  \n\n[409731 rows x 9 columns]",
      "text/html": "<div>\n<style scoped>\n    .dataframe tbody tr th:only-of-type {\n        vertical-align: middle;\n    }\n\n    .dataframe tbody tr th {\n        vertical-align: top;\n    }\n\n    .dataframe thead th {\n        text-align: right;\n    }\n</style>\n<table border=\"1\" class=\"dataframe\">\n  <thead>\n    <tr style=\"text-align: right;\">\n      <th></th>\n      <th>tconst</th>\n      <th>primaryTitle</th>\n      <th>isAdult</th>\n      <th>startYear</th>\n      <th>runtimeMinutes</th>\n      <th>genres</th>\n      <th>primaryName</th>\n      <th>category</th>\n      <th>characters</th>\n    </tr>\n  </thead>\n  <tbody>\n    <tr>\n      <th>0</th>\n      <td>tt0000009</td>\n      <td>miss jerry</td>\n      <td>0</td>\n      <td>1894</td>\n      <td>45</td>\n      <td>romance</td>\n      <td>blanche bayliss,alexander black,william courte...</td>\n      <td>actress,director,actor,actor</td>\n      <td>miss geraldine holbrook/miss jerry,,mr hamilto...</td>\n    </tr>\n    <tr>\n      <th>1</th>\n      <td>tt0000502</td>\n      <td>bohemios</td>\n      <td>0</td>\n      <td>1905</td>\n      <td>100</td>\n      <td>NaN</td>\n      <td>ricardo de baños,antonio del pozo,el mochuelo</td>\n      <td>director,actor,actor</td>\n      <td>,,</td>\n    </tr>\n    <tr>\n      <th>2</th>\n      <td>tt0000574</td>\n      <td>the story of the kelly gang</td>\n      <td>0</td>\n      <td>1906</td>\n      <td>70</td>\n      <td>biography,crime,drama</td>\n      <td>bella cola,charles tait,elizabeth tait,john ta...</td>\n      <td>actress,director,actress,actor,composer,actor</td>\n      <td>,,kate kelly,school master,,steve hart</td>\n    </tr>\n    <tr>\n      <th>3</th>\n      <td>tt0000679</td>\n      <td>the fairylogue and radioplays</td>\n      <td>0</td>\n      <td>1908</td>\n      <td>120</td>\n      <td>adventure,fantasy</td>\n      <td>l frank baum,francis boggs,frank burns,nathani...</td>\n      <td>actor,director,actor,composer,director,actor,a...</td>\n      <td>the wizard of oz man,,his majesty the scarecro...</td>\n    </tr>\n    <tr>\n      <th>4</th>\n      <td>tt0001184</td>\n      <td>don juan de serrallonga</td>\n      <td>0</td>\n      <td>1910</td>\n      <td>58</td>\n      <td>adventure,drama</td>\n      <td>ricardo de baños,alberto marro,dolores puchol,...</td>\n      <td>director,director,actress,actor</td>\n      <td>,,,</td>\n    </tr>\n    <tr>\n      <th>...</th>\n      <td>...</td>\n      <td>...</td>\n      <td>...</td>\n      <td>...</td>\n      <td>...</td>\n      <td>...</td>\n      <td>...</td>\n      <td>...</td>\n      <td>...</td>\n    </tr>\n    <tr>\n      <th>409726</th>\n      <td>tt9916622</td>\n      <td>rodolpho teóphilo  o legado de um pioneiro</td>\n      <td>0</td>\n      <td>2015</td>\n      <td>57</td>\n      <td>documentary</td>\n      <td>angela gurgel,ana célia de oliveira,oldair soa...</td>\n      <td>director,director,actor</td>\n      <td>,,rodolpho teophilo</td>\n    </tr>\n    <tr>\n      <th>409727</th>\n      <td>tt9916680</td>\n      <td>de la ilusión al desconcierto cine colombiano</td>\n      <td>0</td>\n      <td>2007</td>\n      <td>100</td>\n      <td>documentary</td>\n      <td>luis ospina</td>\n      <td>director</td>\n      <td></td>\n    </tr>\n    <tr>\n      <th>409728</th>\n      <td>tt9916692</td>\n      <td>teatroteka czlowiek bez twarzy</td>\n      <td>0</td>\n      <td>2015</td>\n      <td>66</td>\n      <td>drama</td>\n      <td>zbigniew zamachowski,andrzej bartnikowski,samb...</td>\n      <td>actor,director,actor,actress,composer,actress</td>\n      <td>authority,,rafal,monika,,bianka</td>\n    </tr>\n    <tr>\n      <th>409729</th>\n      <td>tt9916730</td>\n      <td>gunn</td>\n      <td>0</td>\n      <td>2017</td>\n      <td>116</td>\n      <td>NaN</td>\n      <td>sunil barve,kiran gawade,bhushan pradhan,archi...</td>\n      <td>actor,director,actor,actor,actor</td>\n      <td>,,,,</td>\n    </tr>\n    <tr>\n      <th>409730</th>\n      <td>tt9916754</td>\n      <td>chico albuquerque  revelações</td>\n      <td>0</td>\n      <td>2013</td>\n      <td>49</td>\n      <td>documentary</td>\n      <td>vinicius augusto bozzo,angela gurgel</td>\n      <td>director,director</td>\n      <td>,</td>\n    </tr>\n  </tbody>\n</table>\n<p>409731 rows × 9 columns</p>\n</div>"
     },
     "execution_count": 15,
     "metadata": {},
     "output_type": "execute_result"
    }
   ],
   "source": [
    "clean_movies = pd.DataFrame([update_movie_with_clean_text(row) for _, row in movies.iterrows()])\n",
    "clean_movies"
   ]
  },
  {
   "cell_type": "code",
   "execution_count": 17,
   "metadata": {},
   "outputs": [
    {
     "data": {
      "text/plain": "          tconst                username rating  \\\n0      tt0000574               David-240  10/10   \n1      tt0000574  F Gwynplaine MacIntyre  10/10   \n2      tt0000574               ackstasis   9/10   \n3      tt0000574               Ziggy5446  10/10   \n4      tt0000574            Fella_shibby   8/10   \n...          ...                     ...    ...   \n11743  tt0018621          JohnHowardReid   8/10   \n11744  tt0018621                kidboots   8/10   \n11745  tt0018621  F Gwynplaine MacIntyre   7/10   \n11746  tt0018638            cliffperriam   8/10   \n11747  tt0018639  F Gwynplaine MacIntyre   6/10   \n\n                                                  review  \n0      movie is believed to be the worlds first featu...  \n1      this afternoon at the barbican i attended the ...  \n2      movie is undoubtedly one of the cinemas most s...  \n3      movie  symbolizes both the birth of the austra...  \n4      this is the original n the first account of ne...  \n...                                                  ...  \n11743  paramount groomed superbeautiful actress as a ...  \n11744  actress seemed to be in every other movie duri...  \n11745  actress was an attractive and talented actress...  \n11746  movie exists as a reel silent french mm releas...  \n11747  i was eager to see movie because its based on ...  \n\n[11748 rows x 4 columns]",
      "text/html": "<div>\n<style scoped>\n    .dataframe tbody tr th:only-of-type {\n        vertical-align: middle;\n    }\n\n    .dataframe tbody tr th {\n        vertical-align: top;\n    }\n\n    .dataframe thead th {\n        text-align: right;\n    }\n</style>\n<table border=\"1\" class=\"dataframe\">\n  <thead>\n    <tr style=\"text-align: right;\">\n      <th></th>\n      <th>tconst</th>\n      <th>username</th>\n      <th>rating</th>\n      <th>review</th>\n    </tr>\n  </thead>\n  <tbody>\n    <tr>\n      <th>0</th>\n      <td>tt0000574</td>\n      <td>David-240</td>\n      <td>10/10</td>\n      <td>movie is believed to be the worlds first featu...</td>\n    </tr>\n    <tr>\n      <th>1</th>\n      <td>tt0000574</td>\n      <td>F Gwynplaine MacIntyre</td>\n      <td>10/10</td>\n      <td>this afternoon at the barbican i attended the ...</td>\n    </tr>\n    <tr>\n      <th>2</th>\n      <td>tt0000574</td>\n      <td>ackstasis</td>\n      <td>9/10</td>\n      <td>movie is undoubtedly one of the cinemas most s...</td>\n    </tr>\n    <tr>\n      <th>3</th>\n      <td>tt0000574</td>\n      <td>Ziggy5446</td>\n      <td>10/10</td>\n      <td>movie  symbolizes both the birth of the austra...</td>\n    </tr>\n    <tr>\n      <th>4</th>\n      <td>tt0000574</td>\n      <td>Fella_shibby</td>\n      <td>8/10</td>\n      <td>this is the original n the first account of ne...</td>\n    </tr>\n    <tr>\n      <th>...</th>\n      <td>...</td>\n      <td>...</td>\n      <td>...</td>\n      <td>...</td>\n    </tr>\n    <tr>\n      <th>11743</th>\n      <td>tt0018621</td>\n      <td>JohnHowardReid</td>\n      <td>8/10</td>\n      <td>paramount groomed superbeautiful actress as a ...</td>\n    </tr>\n    <tr>\n      <th>11744</th>\n      <td>tt0018621</td>\n      <td>kidboots</td>\n      <td>8/10</td>\n      <td>actress seemed to be in every other movie duri...</td>\n    </tr>\n    <tr>\n      <th>11745</th>\n      <td>tt0018621</td>\n      <td>F Gwynplaine MacIntyre</td>\n      <td>7/10</td>\n      <td>actress was an attractive and talented actress...</td>\n    </tr>\n    <tr>\n      <th>11746</th>\n      <td>tt0018638</td>\n      <td>cliffperriam</td>\n      <td>8/10</td>\n      <td>movie exists as a reel silent french mm releas...</td>\n    </tr>\n    <tr>\n      <th>11747</th>\n      <td>tt0018639</td>\n      <td>F Gwynplaine MacIntyre</td>\n      <td>6/10</td>\n      <td>i was eager to see movie because its based on ...</td>\n    </tr>\n  </tbody>\n</table>\n<p>11748 rows × 4 columns</p>\n</div>"
     },
     "execution_count": 17,
     "metadata": {},
     "output_type": "execute_result"
    }
   ],
   "source": [
    "def create_mapping(tconst):\n",
    "    \"\"\"\n",
    "    Creates a mapping between a word in this movie (corresponding to tconst) and its replacement. \n",
    "    \n",
    "    For topic modelling purposes, it is preferred that the title of the movie, cast/crew names and character names\n",
    "    be replaced with a generic word (either \"movie\" or that cast/crew/character's role in the movie.) By doing this, we \n",
    "    can more easily detect when a user is referring to an actor/actress's performance, the director's choices, etc. \n",
    "\n",
    "    Parameters:\n",
    "    tconst (string): unique id of a movie.\n",
    "\n",
    "    Returns:\n",
    "    Mapping (dictionary) of a word and its replacement. \n",
    "\n",
    "   \"\"\"\n",
    "    # get the row that corresponds to tconst \n",
    "    movie = clean_movies[clean_movies.tconst == tconst]\n",
    "    # get the title, cast/crew names, categories (actor, director, etc.) and character names from movie \n",
    "    title, cast_crew, categories, characters = get_movie_attributes(movie)\n",
    "    \n",
    "    # intially map each cast/crew member to their category \n",
    "    mapping = dict(zip(cast_crew, categories))\n",
    "    \n",
    "    # map the title of the movie to \"movie\"\n",
    "    mapping[title] = 'movie'\n",
    "\n",
    "    for i in range(len(cast_crew)):\n",
    "        # map the last name of each cast/crew member to their category\n",
    "        last_name = cast_crew[i].split()[-1]\n",
    "        mapping[last_name] = categories[i]\n",
    "        \n",
    "        # an actor/actress may perform multiple roles, separated by a \"/\"\n",
    "        # each character they play is mapped to the actor/actress's category \n",
    "        for c in characters[i].split('/'):\n",
    "            if c:\n",
    "                mapping[c] = categories[i]\n",
    "    \n",
    "    return mapping\n",
    "\n",
    "def get_movie_attributes(movie):\n",
    "    \"\"\"\n",
    "    Gives the title, list of cast & crew, list of categories of the cast & crew (e.g. director, actress, etc.) and \n",
    "    the characters each cast/crew member played. \n",
    "    \n",
    "    If the cast/crew member does not play a character, then the list at that index will be an empty string. \n",
    "    An actor/actress may play several characters. If so, the character names will be separated by a \"/\" at the \n",
    "    same index.\n",
    "\n",
    "    Parameters:\n",
    "    movie (Series): row that contains the title of the movie, string containing all cast/crew members, string \n",
    "    containing their category and string containing what character they play.\n",
    "\n",
    "    Returns:\n",
    "    title of movie, list of cast and crew, list of categories, list of characters\n",
    "\n",
    "   \"\"\"\n",
    "    title = movie.iloc[0, movie.columns.get_loc('primaryTitle')]\n",
    "    cast_crew = movie.iloc[0, movie.columns.get_loc('primaryName')].split(',')\n",
    "    categories = movie.iloc[0, movie.columns.get_loc('category')].split(',')\n",
    "    characters = movie.iloc[0, movie.columns.get_loc('characters')].split(',')\n",
    "    return title, cast_crew, categories, characters\n",
    "\n",
    "def replace_cast_crew(row):\n",
    "    \"\"\"\n",
    "    Replaces any mention of the title of the movie, cast & crew names and character names with their category (role).\n",
    "\n",
    "    Parameters:\n",
    "    row (Series): row that contains information on a movie and all of the users who have left a review. Columns \n",
    "    consist of a tconst (id of movie, and is the index), usernames list, ratings list and reviews list. Each item\n",
    "    across all three lists correspond with each other.\n",
    "\n",
    "    Returns:\n",
    "    List of dictionaries containing the new rows with the replaced reviews. Each dictionary entry consists of only one\n",
    "    user's review/rating for a movie corresponding with that tconst. \n",
    "\n",
    "   \"\"\"    \n",
    "    # create the mapping of replacement words \n",
    "    mapping = create_mapping(row.name)\n",
    "    movie_reviews_list = []\n",
    "    \n",
    "    for i in range(len(row.username)):\n",
    "        \n",
    "        # for each user, replace the review \n",
    "        replaced_review = row.review[i]\n",
    "        for word, replacement in mapping.items():\n",
    "            replaced_review = replaced_review.replace(word, replacement)\n",
    "            \n",
    "        # append this entry of one user's replaced review to the movie_reviews_list\n",
    "        entry = {'tconst': row.name, 'username': row.username[i], 'rating': row.rating[i], 'review': replaced_review}\n",
    "        movie_reviews_list.append(entry)\n",
    "    return movie_reviews_list\n",
    "\n",
    "# group by each movie such that we only have to create the mapping once for each movie \n",
    "# all users, their ratings and reviews will be aggregated in a list for one movie \n",
    "grouped_reviews = clean_english_reviews.groupby('tconst').agg(list)\n",
    "\n",
    "replaced_reviews = pd.DataFrame([rr for _, row in grouped_reviews.iterrows() for rr in replace_cast_crew(row)])\n",
    "replaced_reviews"
   ]
  },
  {
   "cell_type": "markdown",
   "metadata": {},
   "source": [
    "## Lemmatize Reviews and Movies"
   ]
  },
  {
   "cell_type": "code",
   "execution_count": 18,
   "metadata": {
    "scrolled": true
   },
   "outputs": [
    {
     "name": "stdout",
     "output_type": "stream",
     "text": [
      "Done processing all rows!\r"
     ]
    },
    {
     "data": {
      "text/plain": "          tconst                username rating  \\\n0      tt0000574               David-240  10/10   \n1      tt0000574  F Gwynplaine MacIntyre  10/10   \n2      tt0000574               ackstasis   9/10   \n3      tt0000574               Ziggy5446  10/10   \n4      tt0000574            Fella_shibby   8/10   \n...          ...                     ...    ...   \n11743  tt0018621          JohnHowardReid   8/10   \n11744  tt0018621                kidboots   8/10   \n11745  tt0018621  F Gwynplaine MacIntyre   7/10   \n11746  tt0018638            cliffperriam   8/10   \n11747  tt0018639  F Gwynplaine MacIntyre   6/10   \n\n                                                  review  \n0      movie be believe to be the world first feature...  \n1      this afternoon at the barbican i attend the uk...  \n2      movie be undoubtedly one of the cinema most si...  \n3      movie symbolizes both the birth of the austral...  \n4      this be the original n the first account of ne...  \n...                                                  ...  \n11743  paramount groom superbeautiful actress a a rep...  \n11744  actress seem to be in every other movie during...  \n11745  actress be an attractive and talented actress ...  \n11746  movie exists a a reel silent french mm release...  \n11747  i be eager to see movie because it base on a p...  \n\n[11748 rows x 4 columns]",
      "text/html": "<div>\n<style scoped>\n    .dataframe tbody tr th:only-of-type {\n        vertical-align: middle;\n    }\n\n    .dataframe tbody tr th {\n        vertical-align: top;\n    }\n\n    .dataframe thead th {\n        text-align: right;\n    }\n</style>\n<table border=\"1\" class=\"dataframe\">\n  <thead>\n    <tr style=\"text-align: right;\">\n      <th></th>\n      <th>tconst</th>\n      <th>username</th>\n      <th>rating</th>\n      <th>review</th>\n    </tr>\n  </thead>\n  <tbody>\n    <tr>\n      <th>0</th>\n      <td>tt0000574</td>\n      <td>David-240</td>\n      <td>10/10</td>\n      <td>movie be believe to be the world first feature...</td>\n    </tr>\n    <tr>\n      <th>1</th>\n      <td>tt0000574</td>\n      <td>F Gwynplaine MacIntyre</td>\n      <td>10/10</td>\n      <td>this afternoon at the barbican i attend the uk...</td>\n    </tr>\n    <tr>\n      <th>2</th>\n      <td>tt0000574</td>\n      <td>ackstasis</td>\n      <td>9/10</td>\n      <td>movie be undoubtedly one of the cinema most si...</td>\n    </tr>\n    <tr>\n      <th>3</th>\n      <td>tt0000574</td>\n      <td>Ziggy5446</td>\n      <td>10/10</td>\n      <td>movie symbolizes both the birth of the austral...</td>\n    </tr>\n    <tr>\n      <th>4</th>\n      <td>tt0000574</td>\n      <td>Fella_shibby</td>\n      <td>8/10</td>\n      <td>this be the original n the first account of ne...</td>\n    </tr>\n    <tr>\n      <th>...</th>\n      <td>...</td>\n      <td>...</td>\n      <td>...</td>\n      <td>...</td>\n    </tr>\n    <tr>\n      <th>11743</th>\n      <td>tt0018621</td>\n      <td>JohnHowardReid</td>\n      <td>8/10</td>\n      <td>paramount groom superbeautiful actress a a rep...</td>\n    </tr>\n    <tr>\n      <th>11744</th>\n      <td>tt0018621</td>\n      <td>kidboots</td>\n      <td>8/10</td>\n      <td>actress seem to be in every other movie during...</td>\n    </tr>\n    <tr>\n      <th>11745</th>\n      <td>tt0018621</td>\n      <td>F Gwynplaine MacIntyre</td>\n      <td>7/10</td>\n      <td>actress be an attractive and talented actress ...</td>\n    </tr>\n    <tr>\n      <th>11746</th>\n      <td>tt0018638</td>\n      <td>cliffperriam</td>\n      <td>8/10</td>\n      <td>movie exists a a reel silent french mm release...</td>\n    </tr>\n    <tr>\n      <th>11747</th>\n      <td>tt0018639</td>\n      <td>F Gwynplaine MacIntyre</td>\n      <td>6/10</td>\n      <td>i be eager to see movie because it base on a p...</td>\n    </tr>\n  </tbody>\n</table>\n<p>11748 rows × 4 columns</p>\n</div>"
     },
     "execution_count": 18,
     "metadata": {},
     "output_type": "execute_result"
    }
   ],
   "source": [
    "from nltk.stem import WordNetLemmatizer\n",
    "\n",
    "def lemmatize_row(row):\n",
    "    \"\"\"\n",
    "    Updates the given row with lemmatized text for its review column.\n",
    "\n",
    "    Parameters:\n",
    "    row (Series): row that contains unlemmatized reviews\n",
    "\n",
    "    Returns:\n",
    "    Row with lemmatized review. \n",
    "\n",
    "   \"\"\"  \n",
    "    print(f'Processing row {row.name}...', end='\\r')\n",
    "    row.review = cleaning.lemmatize(row.review, lemmatizer)\n",
    "    return row\n",
    "\n",
    "lemmatizer = WordNetLemmatizer()\n",
    "lemmatized_reviews = pd.DataFrame([lemmatize_row(row) for _, row in replaced_reviews.iterrows()])\n",
    "print(f'Done processing all rows!', end='\\r')\n",
    "lemmatized_reviews"
   ]
  },
  {
   "cell_type": "code",
   "execution_count": null,
   "metadata": {
    "pycharm": {
     "is_executing": true,
     "name": "#%%\n"
    }
   },
   "outputs": [],
   "source": [
    "lemmatized_reviews.to_csv(f'./reviews/lemmatized_reviews/lemmatized_reviews_{number}.csv')"
   ]
  }
 ],
 "metadata": {
  "kernelspec": {
   "name": "pycharm-e4b9277d",
   "language": "python",
   "display_name": "PyCharm (movie-preference-predictor)"
  },
  "language_info": {
   "codemirror_mode": {
    "name": "ipython",
    "version": 3
   },
   "file_extension": ".py",
   "mimetype": "text/x-python",
   "name": "python",
   "nbconvert_exporter": "python",
   "pygments_lexer": "ipython3",
   "version": "3.9.1"
  }
 },
 "nbformat": 4,
 "nbformat_minor": 4
}