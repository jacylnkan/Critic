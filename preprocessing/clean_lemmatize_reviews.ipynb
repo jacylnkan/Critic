{
 "cells": [
  {
   "cell_type": "code",
   "execution_count": 1,
   "metadata": {},
   "outputs": [],
   "source": [
    "import pandas as pd"
   ]
  },
  {
   "cell_type": "markdown",
   "metadata": {},
   "source": [
    "## Read Data\n",
    "\n",
    "In this section, we read in the `reviews` csv, which contains the webscraped reviews data for each movie.\n",
    "\n",
    "The `reviews` dataframe consists of 4 columns:\n",
    "* `tconst` - unique id of a movie \n",
    "* `username` - username of the user who left a rating/review for this movie\n",
    "* `rating` - user's rating for the movie out of 10 (1 being the lowest, 10 being the highest) \n",
    "* `review` - user's textual review of the movie\n",
    "\n",
    "We also read in `movie_mapping.pickle`, which contains a pickled dataframe consisting of the\n",
    "following columns:\n",
    "* `tconst` - unique id of a movie\n",
    "* `mapping` - dictionary containing the mapping between common words that would be present in a\n",
    "review of the movie and it's replacement\n",
    "   * e.g. for the film \"Titanic\", the mapping would contain mappings such as \"dicaprio\" -> \"actor\",\n",
    "   \"rose\" -> \"actress\", \"titanic\" -> \"movie\", etc."
   ]
  },
  {
   "cell_type": "code",
   "execution_count": 2,
   "metadata": {},
   "outputs": [
    {
     "data": {
      "text/plain": "      tconst                username rating  \\\n0  tt0018671  F Gwynplaine MacIntyre   2/10   \n1  tt0018673             Maleejandra   8/10   \n2  tt0018673                kidboots   9/10   \n3  tt0018673               David-240   9/10   \n4  tt0018673          JohnHowardReid  10/10   \n\n                                              review  \n0  Even though I've written some historical ficti...  \n1  Bare Knees is the epitome of the Jazz Age, but...  \n2  Sometimes you can get a truer picture of teen ...  \n3  This must be the ultimate flapper comedy - an ...  \n4  A comedy-drama I greatly enjoyed was 1928's Ba...  ",
      "text/html": "<div>\n<style scoped>\n    .dataframe tbody tr th:only-of-type {\n        vertical-align: middle;\n    }\n\n    .dataframe tbody tr th {\n        vertical-align: top;\n    }\n\n    .dataframe thead th {\n        text-align: right;\n    }\n</style>\n<table border=\"1\" class=\"dataframe\">\n  <thead>\n    <tr style=\"text-align: right;\">\n      <th></th>\n      <th>tconst</th>\n      <th>username</th>\n      <th>rating</th>\n      <th>review</th>\n    </tr>\n  </thead>\n  <tbody>\n    <tr>\n      <th>0</th>\n      <td>tt0018671</td>\n      <td>F Gwynplaine MacIntyre</td>\n      <td>2/10</td>\n      <td>Even though I've written some historical ficti...</td>\n    </tr>\n    <tr>\n      <th>1</th>\n      <td>tt0018673</td>\n      <td>Maleejandra</td>\n      <td>8/10</td>\n      <td>Bare Knees is the epitome of the Jazz Age, but...</td>\n    </tr>\n    <tr>\n      <th>2</th>\n      <td>tt0018673</td>\n      <td>kidboots</td>\n      <td>9/10</td>\n      <td>Sometimes you can get a truer picture of teen ...</td>\n    </tr>\n    <tr>\n      <th>3</th>\n      <td>tt0018673</td>\n      <td>David-240</td>\n      <td>9/10</td>\n      <td>This must be the ultimate flapper comedy - an ...</td>\n    </tr>\n    <tr>\n      <th>4</th>\n      <td>tt0018673</td>\n      <td>JohnHowardReid</td>\n      <td>10/10</td>\n      <td>A comedy-drama I greatly enjoyed was 1928's Ba...</td>\n    </tr>\n  </tbody>\n</table>\n</div>"
     },
     "execution_count": 2,
     "metadata": {},
     "output_type": "execute_result"
    }
   ],
   "source": [
    "# reading in reviews\n",
    "number = 81551\n",
    "new = True\n",
    "reviews = pd.read_csv(f'../data/reviews/raw_reviews/raw_reviews_{number}.csv')\n",
    "reviews.head()"
   ]
  },
  {
   "cell_type": "code",
   "execution_count": 3,
   "outputs": [],
   "source": [
    "import shared_functions.pickling as pickling\n",
    "\n",
    "# reading in movie mappings\n",
    "movie_mapping = pickling.get_pickle('movie_mapping')"
   ],
   "metadata": {
    "collapsed": false,
    "pycharm": {
     "name": "#%%\n"
    }
   }
  },
  {
   "cell_type": "markdown",
   "metadata": {},
   "source": [
    "## Filter to Include Only English Reviews\n",
    "\n",
    "Analysis will only be done on english reviews, as later procedures such as lemmatization and topic modelling will be english-focused. \n",
    "\n",
    "Below, we wil filter the rows such that only the ones with english reviews are kept. "
   ]
  },
  {
   "cell_type": "code",
   "execution_count": null,
   "metadata": {
    "scrolled": false,
    "pycharm": {
     "is_executing": true
    }
   },
   "outputs": [],
   "source": [
    "import shared_functions.cleaning as cleaning\n",
    "\n",
    "if new:\n",
    "    # select only rows where the review is in valid english\n",
    "    english_reviews = reviews[reviews.apply(lambda row: cleaning.valid_english(row), axis=1)]\n",
    "\n",
    "    # write to csv\n",
    "    english_reviews.to_csv(f'../data/reviews/english_reviews/english_reviews_{number}.csv')\n",
    "else:\n",
    "    # read from csv\n",
    "    english_reviews = pd.read_csv(f'../data/reviews/english_reviews/english_reviews_{number}.csv', index_col=0)\n",
    "\n",
    "english_reviews.head()"
   ]
  },
  {
   "cell_type": "markdown",
   "metadata": {},
   "source": [
    "## Clean Reviews\n",
    "\n",
    "Currently, text in `english_reviews` and `movies` have uppercases, punctuation and digits. \n",
    "\n",
    "We want to fix this in the `review` column of `english_reviews`."
   ]
  },
  {
   "cell_type": "code",
   "execution_count": null,
   "metadata": {
    "scrolled": true,
    "pycharm": {
     "is_executing": true
    }
   },
   "outputs": [],
   "source": [
    "def update_review_with_clean_text(row):\n",
    "    \"\"\"\n",
    "    Updates the given row with clean text for its review column.\n",
    "\n",
    "    Parameters:\n",
    "    row (Series): row that contains unclean reviews\n",
    "\n",
    "    Returns:\n",
    "    Row with cleaned review. \n",
    "\n",
    "   \"\"\"\n",
    "    text = cleaning.clean_text(row.review)\n",
    "    row.review = text\n",
    "    return row"
   ]
  },
  {
   "cell_type": "code",
   "execution_count": null,
   "metadata": {
    "pycharm": {
     "is_executing": true
    }
   },
   "outputs": [],
   "source": [
    "if new:\n",
    "    # clean english reviews\n",
    "    clean_english_reviews = pd.DataFrame([update_review_with_clean_text(row) for i, row in english_reviews.iterrows()])\n",
    "\n",
    "    # write to csv\n",
    "    clean_english_reviews.to_csv(f'../data/reviews/english_reviews/clean_english_reviews_{number}.csv')\n",
    "else:\n",
    "    # read from csv\n",
    "    clean_english_reviews = pd.read_csv(f'../data/reviews/english_reviews/clean_english_reviews_{number}.csv', index_col=0)\n",
    "\n",
    "clean_english_reviews.head()"
   ]
  },
  {
   "cell_type": "markdown",
   "source": [
    "## Perform Replacements of Key Words in Reviews\n",
    "\n",
    "Often, movie reviews will contain the title of the movie or cast/crew/character names. Clearly, these words are varied\n",
    "between movies, meaning that these key words will not contribute to the topic distribution given by the topic\n",
    "model.\n",
    "\n",
    "For example, a review may focus heavily on the directing of aspect a movie and use the director's name often in the review.\n",
    "However, because the frequency of this director's review will be too low when considering all reviews across all movies,\n",
    "the topic model will most likely not recognize this review as having a high probability of being about\n",
    "the directing. However,if we were map the director's name in each review to the term \"director\", the topic model\n",
    "will be able to learn this word and correctly assign a higher probability to the \"directing\" topic.\n",
    "\n",
    "We perform a replacement of these key words with more generic terms below.\n"
   ],
   "metadata": {
    "collapsed": false,
    "pycharm": {
     "name": "#%% md\n"
    }
   }
  },
  {
   "cell_type": "code",
   "execution_count": null,
   "outputs": [],
   "source": [
    "def replace_title_cast_crew(eng_reviews):\n",
    "    \"\"\"\n",
    "    Replaces any mention of the title of the movie, cast & crew names and character names with their category (role).\n",
    "\n",
    "    Parameters:\n",
    "    eng_reviews (DataFrame): a dataframe that contains all cleaned english reviews, the username of the reviewer, the\n",
    "    rating given alongside the review, and the tconst of the movie to which it is referring to.\n",
    "    Reviews of the same movie will be grouped together in adjacent rows in the dataframe.\n",
    "\n",
    "    Returns:\n",
    "    List of dictionaries containing the new rows with the replaced reviews. Each dictionary entry consists of only one\n",
    "    user's review/rating for a movie corresponding with that tconst. \n",
    "\n",
    "   \"\"\"\n",
    "    prev_movie = None\n",
    "    mapping = None\n",
    "    entries = []\n",
    "    # for each review\n",
    "    for _, row in eng_reviews.iterrows():\n",
    "        # if the review regards a movie that hasn't been analyzed yet\n",
    "        if prev_movie != row.tconst:\n",
    "            # set it the the current movie\n",
    "            prev_movie = row.tconst\n",
    "            # extract the mapping for this movie\n",
    "            mapping = movie_mapping[movie_mapping.tconst == row.tconst].mapping.squeeze()\n",
    "\n",
    "        # replace all mapped words in the review\n",
    "        replaced_review = row.review\n",
    "        for word, replacement in mapping.items():\n",
    "            replaced_review = replaced_review.replace(word, replacement)\n",
    "\n",
    "        entries.append({'tconst': row.tconst, 'username': row.username, 'rating': row.rating, 'review': replaced_review})\n",
    "\n",
    "    return entries\n",
    "\n",
    "replaced_reviews = pd.DataFrame(replace_title_cast_crew(clean_english_reviews))"
   ],
   "metadata": {
    "collapsed": false,
    "pycharm": {
     "name": "#%%\n",
     "is_executing": true
    }
   }
  },
  {
   "cell_type": "markdown",
   "metadata": {},
   "source": [
    "## Lemmatize Reviews and Movies"
   ]
  },
  {
   "cell_type": "code",
   "execution_count": null,
   "metadata": {
    "scrolled": true,
    "pycharm": {
     "is_executing": true
    }
   },
   "outputs": [],
   "source": [
    "from nltk.stem import WordNetLemmatizer\n",
    "\n",
    "def lemmatize_row(row):\n",
    "    \"\"\"\n",
    "    Updates the given row with lemmatized text for its review column.\n",
    "\n",
    "    Parameters:\n",
    "    row (Series): row that contains unlemmatized reviews\n",
    "\n",
    "    Returns:\n",
    "    Row with lemmatized review. \n",
    "\n",
    "   \"\"\"  \n",
    "    print(f'Processing row {row.name}...', end='\\r')\n",
    "    row.review = cleaning.lemmatize(row.review, lemmatizer)\n",
    "    return row\n",
    "\n",
    "lemmatizer = WordNetLemmatizer()\n",
    "lemmatized_reviews = pd.DataFrame([lemmatize_row(row) for _, row in replaced_reviews.iterrows()])\n",
    "print(f'Done processing all rows!', end='\\r')\n",
    "lemmatized_reviews"
   ]
  },
  {
   "cell_type": "code",
   "execution_count": null,
   "metadata": {
    "pycharm": {
     "name": "#%%\n",
     "is_executing": true
    }
   },
   "outputs": [],
   "source": [
    "if new:\n",
    "    lemmatized_reviews.to_csv(f'../data/reviews/lemmatized_reviews/lemmatized_reviews_{number}.csv')\n",
    "\n"
   ]
  }
 ],
 "metadata": {
  "kernelspec": {
   "name": "pycharm-e4b9277d",
   "language": "python",
   "display_name": "PyCharm (movie-preference-predictor)"
  },
  "language_info": {
   "codemirror_mode": {
    "name": "ipython",
    "version": 3
   },
   "file_extension": ".py",
   "mimetype": "text/x-python",
   "name": "python",
   "nbconvert_exporter": "python",
   "pygments_lexer": "ipython3",
   "version": "3.9.1"
  }
 },
 "nbformat": 4,
 "nbformat_minor": 4
}