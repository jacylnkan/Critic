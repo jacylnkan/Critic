{
 "cells": [
  {
   "cell_type": "code",
   "execution_count": 2,
   "outputs": [],
   "source": [
    "import pandas as pd\n",
    "import shared_functions.pickling as pickling"
   ],
   "metadata": {
    "collapsed": false,
    "pycharm": {
     "name": "#%%\n"
    }
   }
  },
  {
   "cell_type": "markdown",
   "source": [
    "## Read Data\n",
    "\n",
    "Below, I read in the review topic probability distribution in `doc_topics` and as well as the `topic_labels`, which will\n",
    "be in the same order.\n",
    "\n",
    "I then read in all lemmatized reviews."
   ],
   "metadata": {
    "collapsed": false,
    "pycharm": {
     "name": "#%% md\n"
    }
   }
  },
  {
   "cell_type": "code",
   "execution_count": 7,
   "metadata": {
    "collapsed": true
   },
   "outputs": [],
   "source": [
    "doc_topics, topic_labels = pickling.get_pickle('glda')\n",
    "topic_columns = [t.replace(' ', '_') for t in topic_labels]\n",
    "\n",
    "number = 5933\n",
    "lemmatized_reviews = pd.read_csv(f'../data/reviews/lemmatized_reviews/lemmatized_reviews_{number}.csv', index_col=0)\n",
    "lemmatized_reviews.head()\n"
   ]
  },
  {
   "cell_type": "code",
   "execution_count": 9,
   "outputs": [
    {
     "data": {
      "text/plain": "      tconst                username  rating    acting  attraction  \\\n0  tt0000574               David-240      10  0.055154    0.036124   \n1  tt0000574  F Gwynplaine MacIntyre      10  0.055154    0.036124   \n2  tt0000574               ackstasis       9  0.055154    0.036124   \n3  tt0000574               Ziggy5446      10  0.055154    0.036124   \n4  tt0000574            Fella_shibby       8  0.055154    0.036124   \n\n   cinematography  dialogue  directing  editing_effects  it_factor      plot  \\\n0         0.32075  0.000323   0.004124         0.001065   0.000813  0.006387   \n1         0.32075  0.000323   0.004124         0.001065   0.000813  0.006387   \n2         0.32075  0.000323   0.004124         0.001065   0.000813  0.006387   \n3         0.32075  0.000323   0.004124         0.001065   0.000813  0.006387   \n4         0.32075  0.000323   0.004124         0.001065   0.000813  0.006387   \n\n   sound_music   theme  \n0     0.000359  0.5749  \n1     0.000359  0.5749  \n2     0.000359  0.5749  \n3     0.000359  0.5749  \n4     0.000359  0.5749  ",
      "text/html": "<div>\n<style scoped>\n    .dataframe tbody tr th:only-of-type {\n        vertical-align: middle;\n    }\n\n    .dataframe tbody tr th {\n        vertical-align: top;\n    }\n\n    .dataframe thead th {\n        text-align: right;\n    }\n</style>\n<table border=\"1\" class=\"dataframe\">\n  <thead>\n    <tr style=\"text-align: right;\">\n      <th></th>\n      <th>tconst</th>\n      <th>username</th>\n      <th>rating</th>\n      <th>acting</th>\n      <th>attraction</th>\n      <th>cinematography</th>\n      <th>dialogue</th>\n      <th>directing</th>\n      <th>editing_effects</th>\n      <th>it_factor</th>\n      <th>plot</th>\n      <th>sound_music</th>\n      <th>theme</th>\n    </tr>\n  </thead>\n  <tbody>\n    <tr>\n      <th>0</th>\n      <td>tt0000574</td>\n      <td>David-240</td>\n      <td>10</td>\n      <td>0.055154</td>\n      <td>0.036124</td>\n      <td>0.32075</td>\n      <td>0.000323</td>\n      <td>0.004124</td>\n      <td>0.001065</td>\n      <td>0.000813</td>\n      <td>0.006387</td>\n      <td>0.000359</td>\n      <td>0.5749</td>\n    </tr>\n    <tr>\n      <th>1</th>\n      <td>tt0000574</td>\n      <td>F Gwynplaine MacIntyre</td>\n      <td>10</td>\n      <td>0.055154</td>\n      <td>0.036124</td>\n      <td>0.32075</td>\n      <td>0.000323</td>\n      <td>0.004124</td>\n      <td>0.001065</td>\n      <td>0.000813</td>\n      <td>0.006387</td>\n      <td>0.000359</td>\n      <td>0.5749</td>\n    </tr>\n    <tr>\n      <th>2</th>\n      <td>tt0000574</td>\n      <td>ackstasis</td>\n      <td>9</td>\n      <td>0.055154</td>\n      <td>0.036124</td>\n      <td>0.32075</td>\n      <td>0.000323</td>\n      <td>0.004124</td>\n      <td>0.001065</td>\n      <td>0.000813</td>\n      <td>0.006387</td>\n      <td>0.000359</td>\n      <td>0.5749</td>\n    </tr>\n    <tr>\n      <th>3</th>\n      <td>tt0000574</td>\n      <td>Ziggy5446</td>\n      <td>10</td>\n      <td>0.055154</td>\n      <td>0.036124</td>\n      <td>0.32075</td>\n      <td>0.000323</td>\n      <td>0.004124</td>\n      <td>0.001065</td>\n      <td>0.000813</td>\n      <td>0.006387</td>\n      <td>0.000359</td>\n      <td>0.5749</td>\n    </tr>\n    <tr>\n      <th>4</th>\n      <td>tt0000574</td>\n      <td>Fella_shibby</td>\n      <td>8</td>\n      <td>0.055154</td>\n      <td>0.036124</td>\n      <td>0.32075</td>\n      <td>0.000323</td>\n      <td>0.004124</td>\n      <td>0.001065</td>\n      <td>0.000813</td>\n      <td>0.006387</td>\n      <td>0.000359</td>\n      <td>0.5749</td>\n    </tr>\n  </tbody>\n</table>\n</div>"
     },
     "execution_count": 9,
     "metadata": {},
     "output_type": "execute_result"
    }
   ],
   "source": [
    "def get_rating(rating_string):\n",
    "    \"\"\"\n",
    "    Returns the integer rating.\n",
    "\n",
    "    Parameters:\n",
    "    rating_string (string): string in the form \"<rating>/10\"\n",
    "\n",
    "    Returns:\n",
    "    integer value of rating\n",
    "\n",
    "   \"\"\"\n",
    "    return int(rating_string.split('/')[0])\n",
    "\n",
    "def get_rating_weights(review_row, topic_dist):\n",
    "    \"\"\"\n",
    "    Appends the topic probabilities for each review to a dictionary containing a user's rating for a movie.\n",
    "\n",
    "    Parameters:\n",
    "    review_row (Series): row containing one user review/rating for a movie\n",
    "    topic_dist (numpy.ndarray): array containing the topic probability distribution. sums to 1.0.\n",
    "\n",
    "    Returns:\n",
    "    dictionary in the form {'tconst: <str>, 'username': <str>, 'rating': <int>, acting: '<float>', ... (and so on for all topics)}\n",
    "\n",
    "   \"\"\"\n",
    "    tconst = review_row.tconst\n",
    "    username = review_row.username\n",
    "    rating = get_rating(review_row.rating)\n",
    "\n",
    "    rating_weight_row = {'tconst': tconst, 'username': username, 'rating': rating}\n",
    "    rating_weight_row.update(zip(topic_columns, topic_dist))\n",
    "    return rating_weight_row\n",
    "\n",
    "weighted_ratings = pd.DataFrame([get_rating_weights(row, doc_topics[0]) for _, row in lemmatized_reviews.iterrows()])\n",
    "weighted_ratings.head()"
   ],
   "metadata": {
    "collapsed": false,
    "pycharm": {
     "name": "#%%\n"
    }
   }
  },
  {
   "cell_type": "code",
   "execution_count": 13,
   "outputs": [],
   "source": [
    "weighted_ratings.to_csv(f'../data/ratings/weighted_ratings_{number}.csv')\n"
   ],
   "metadata": {
    "collapsed": false,
    "pycharm": {
     "name": "#%%\n"
    }
   }
  }
 ],
 "metadata": {
  "kernelspec": {
   "name": "pycharm-e4b9277d",
   "language": "python",
   "display_name": "PyCharm (movie-preference-predictor)"
  },
  "language_info": {
   "codemirror_mode": {
    "name": "ipython",
    "version": 2
   },
   "file_extension": ".py",
   "mimetype": "text/x-python",
   "name": "python",
   "nbconvert_exporter": "python",
   "pygments_lexer": "ipython2",
   "version": "2.7.6"
  }
 },
 "nbformat": 4,
 "nbformat_minor": 0
}