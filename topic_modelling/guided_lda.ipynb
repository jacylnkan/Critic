{
 "cells": [
  {
   "cell_type": "code",
   "execution_count": 13,
   "metadata": {},
   "outputs": [],
   "source": [
    "from lda import guidedlda as glda\n",
    "import numpy as np\n",
    "import pandas as pd"
   ]
  },
  {
   "cell_type": "markdown",
   "metadata": {},
   "source": [
    "## Get Prior Guide Words"
   ]
  },
  {
   "cell_type": "code",
   "execution_count": 18,
   "metadata": {},
   "outputs": [],
   "source": [
    "import glob\n",
    "\n",
    "from sklearn.feature_extraction.text import CountVectorizer\n",
    "\n",
    "filenames = [file for file in glob.glob(\"../data/topics/lemm_topics/*.txt\")]\n",
    "\n",
    "# TODO: cv\n",
    "\n",
    "guide_cv = CountVectorizer(input='filename', stop_words='english', max_df=0.9)\n",
    "guide_X = guide_cv.fit_transform(filenames)\n",
    "\n",
    "guide_word2id = guide_cv.vocabulary_\n",
    "guide_vocab = guide_cv.get_feature_names()\n",
    "\n",
    "with open('../data/topics/lemm_guide_words.txt', encoding='utf-8') as f:\n",
    "    basic_guide_words = [[t for t in topics.split() if t in guide_vocab] for topics in f.read().splitlines()]"
   ]
  },
  {
   "cell_type": "markdown",
   "metadata": {},
   "source": [
    "## Read in Data"
   ]
  },
  {
   "cell_type": "code",
   "execution_count": 14,
   "metadata": {
    "scrolled": false
   },
   "outputs": [
    {
     "data": {
      "text/plain": "          tconst                username rating  \\\n0      tt0000574               David-240  10/10   \n1      tt0000574  F Gwynplaine MacIntyre  10/10   \n2      tt0000574               ackstasis   9/10   \n3      tt0000574               Ziggy5446  10/10   \n4      tt0000574            Fella_shibby   8/10   \n...          ...                     ...    ...   \n11743  tt0018621          JohnHowardReid   8/10   \n11744  tt0018621                kidboots   8/10   \n11745  tt0018621  F Gwynplaine MacIntyre   7/10   \n11746  tt0018638            cliffperriam   8/10   \n11747  tt0018639  F Gwynplaine MacIntyre   6/10   \n\n                                                  review  \n0      movie be believe to be the world first feature...  \n1      this afternoon at the barbican i attend the uk...  \n2      movie be undoubtedly one of the cinema most si...  \n3      movie symbolizes both the birth of the austral...  \n4      this be the original n the first account of ne...  \n...                                                  ...  \n11743  paramount groom superbeautiful actress a a rep...  \n11744  actress seem to be in every other movie during...  \n11745  actress be an attractive and talented actress ...  \n11746  movie exists a a reel silent french mm release...  \n11747  i be eager to see movie because it base on a p...  \n\n[11748 rows x 4 columns]",
      "text/html": "<div>\n<style scoped>\n    .dataframe tbody tr th:only-of-type {\n        vertical-align: middle;\n    }\n\n    .dataframe tbody tr th {\n        vertical-align: top;\n    }\n\n    .dataframe thead th {\n        text-align: right;\n    }\n</style>\n<table border=\"1\" class=\"dataframe\">\n  <thead>\n    <tr style=\"text-align: right;\">\n      <th></th>\n      <th>tconst</th>\n      <th>username</th>\n      <th>rating</th>\n      <th>review</th>\n    </tr>\n  </thead>\n  <tbody>\n    <tr>\n      <th>0</th>\n      <td>tt0000574</td>\n      <td>David-240</td>\n      <td>10/10</td>\n      <td>movie be believe to be the world first feature...</td>\n    </tr>\n    <tr>\n      <th>1</th>\n      <td>tt0000574</td>\n      <td>F Gwynplaine MacIntyre</td>\n      <td>10/10</td>\n      <td>this afternoon at the barbican i attend the uk...</td>\n    </tr>\n    <tr>\n      <th>2</th>\n      <td>tt0000574</td>\n      <td>ackstasis</td>\n      <td>9/10</td>\n      <td>movie be undoubtedly one of the cinema most si...</td>\n    </tr>\n    <tr>\n      <th>3</th>\n      <td>tt0000574</td>\n      <td>Ziggy5446</td>\n      <td>10/10</td>\n      <td>movie symbolizes both the birth of the austral...</td>\n    </tr>\n    <tr>\n      <th>4</th>\n      <td>tt0000574</td>\n      <td>Fella_shibby</td>\n      <td>8/10</td>\n      <td>this be the original n the first account of ne...</td>\n    </tr>\n    <tr>\n      <th>...</th>\n      <td>...</td>\n      <td>...</td>\n      <td>...</td>\n      <td>...</td>\n    </tr>\n    <tr>\n      <th>11743</th>\n      <td>tt0018621</td>\n      <td>JohnHowardReid</td>\n      <td>8/10</td>\n      <td>paramount groom superbeautiful actress a a rep...</td>\n    </tr>\n    <tr>\n      <th>11744</th>\n      <td>tt0018621</td>\n      <td>kidboots</td>\n      <td>8/10</td>\n      <td>actress seem to be in every other movie during...</td>\n    </tr>\n    <tr>\n      <th>11745</th>\n      <td>tt0018621</td>\n      <td>F Gwynplaine MacIntyre</td>\n      <td>7/10</td>\n      <td>actress be an attractive and talented actress ...</td>\n    </tr>\n    <tr>\n      <th>11746</th>\n      <td>tt0018638</td>\n      <td>cliffperriam</td>\n      <td>8/10</td>\n      <td>movie exists a a reel silent french mm release...</td>\n    </tr>\n    <tr>\n      <th>11747</th>\n      <td>tt0018639</td>\n      <td>F Gwynplaine MacIntyre</td>\n      <td>6/10</td>\n      <td>i be eager to see movie because it base on a p...</td>\n    </tr>\n  </tbody>\n</table>\n<p>11748 rows × 4 columns</p>\n</div>"
     },
     "execution_count": 14,
     "metadata": {},
     "output_type": "execute_result"
    }
   ],
   "source": [
    "number = 5933\n",
    "lemmatized_data = pd.read_csv(f'../data/reviews/lemmatized_reviews/lemmatized_reviews_{number}.csv', index_col=0)\n",
    "lemmatized_data"
   ]
  },
  {
   "cell_type": "code",
   "execution_count": null,
   "outputs": [],
   "source": [
    "# guide_model = glda.GuidedLDA(n_topics=len(basic_guide_words), n_iter=100, random_state=7, refresh=20)\n",
    "\n",
    "# guide_seed_topics = {}\n",
    "# for t_id, st in enumerate(basic_guide_words):\n",
    "#     for word in st:\n",
    "#         guide_seed_topics[guide_word2id[word]] = t_id\n",
    "        \n",
    "# # TODO: cv\n",
    "\n",
    "# guide_model.fit(guide_X, seed_topics=guide_seed_topics, seed_confidence=0.5)"
   ],
   "metadata": {
    "collapsed": false,
    "pycharm": {
     "name": "#%%\n"
    }
   }
  },
  {
   "cell_type": "code",
   "execution_count": null,
   "outputs": [],
   "source": [
    "# import numpy as np\n",
    "# import re\n",
    "\n",
    "# guide_words = []\n",
    "\n",
    "# # TODO: cv\n",
    "\n",
    "# guide_n_top_words = 15\n",
    "# for i, topic_dist in enumerate(guide_model.topic_word_):\n",
    "#     guide_topic_words = np.array(guide_vocab)[np.argsort(topic_dist)][:-(guide_n_top_words+1):-1]\n",
    "#     guide_words.append(guide_topic_words)\n",
    "#     guide_topic = re.findall('\\\\\\\\([a-z_]+)', filenames[i])[0]\n",
    "#     print(f'Topic {guide_topic}:\\n{\" \".join(guide_topic_words)}\\n')"
   ],
   "metadata": {
    "collapsed": false,
    "pycharm": {
     "name": "#%%\n"
    }
   }
  },
  {
   "cell_type": "markdown",
   "metadata": {},
   "source": [
    "## Generate Corpus Vocabulary and Seed Topics"
   ]
  },
  {
   "cell_type": "code",
   "execution_count": 19,
   "metadata": {},
   "outputs": [],
   "source": [
    "from sklearn.feature_extraction.text import CountVectorizer\n",
    "import re \n",
    "\n",
    "# TODO: cross validate here for cv params?\n",
    "\n",
    "cv = CountVectorizer(stop_words='english', max_df=0.6, min_df=30)\n",
    "X = cv.fit_transform(lemmatized_data.review)\n",
    "word2id = cv.vocabulary_\n",
    "vocab = cv.get_feature_names()\n",
    "\n",
    "guide_words = [[t for t in topics if t in vocab] for topics in basic_guide_words]\n",
    "\n",
    "seed_topics = {}\n",
    "for t_id, st in enumerate(guide_words):\n",
    "    for word in st:\n",
    "        seed_topics[word2id[word]] = t_id"
   ]
  },
  {
   "cell_type": "markdown",
   "metadata": {},
   "source": [
    "## Fit Model and Display Top Topic Words"
   ]
  },
  {
   "cell_type": "code",
   "execution_count": 21,
   "metadata": {},
   "outputs": [
    {
     "name": "stderr",
     "output_type": "stream",
     "text": [
      "INFO:lda:n_documents: 11748\n",
      "INFO:lda:vocab_size: 5241\n",
      "INFO:lda:n_words: 1258159\n",
      "INFO:lda:n_topics: 10\n",
      "INFO:lda:n_iter: 100\n",
      "WARNING:lda:all zero row in document-term matrix found\n",
      "INFO:lda:<0> log likelihood: -13040031\n",
      "INFO:lda:<10> log likelihood: -11032737\n",
      "INFO:lda:<20> log likelihood: -10657324\n",
      "INFO:lda:<30> log likelihood: -10547771\n",
      "INFO:lda:<40> log likelihood: -10483495\n",
      "INFO:lda:<50> log likelihood: -10440221\n",
      "INFO:lda:<60> log likelihood: -10404575\n",
      "INFO:lda:<70> log likelihood: -10381834\n",
      "INFO:lda:<80> log likelihood: -10361764\n",
      "INFO:lda:<90> log likelihood: -10343784\n",
      "INFO:lda:<99> log likelihood: -10328408\n"
     ]
    },
    {
     "name": "stdout",
     "output_type": "stream",
     "text": [
      "Topic acting:\n",
      "character make actress comedy silent scene great act time love like performance just tactor story\n",
      "\n",
      "Topic attraction:\n",
      "actress love young woman girl play man director make father star wife old life come\n",
      "\n",
      "Topic cinematography:\n",
      "make time director story like silent set horror great use scene watch german character cinema\n",
      "\n",
      "Topic dialogue:\n",
      "actress play man make star director girl young come scene woman played end father jack\n",
      "\n",
      "Topic directing:\n",
      "director story actress scene make shot german silent herr time character work great use early\n",
      "\n",
      "Topic editing_effects:\n",
      "scene make time comedy silent great watch like just train stunt work really way sequence\n",
      "\n",
      "Topic it_factor:\n",
      "version actress director silent make best good great scene time story original print star year\n",
      "\n",
      "Topic plot:\n",
      "story like make just really good silent watch time end look love say think way\n",
      "\n",
      "Topic sound_music:\n",
      "actress silent make version score year story sound director time play print new music screen\n",
      "\n",
      "Topic theme:\n",
      "people make actress time war director black like white life scene woman worker world come\n",
      "\n"
     ]
    }
   ],
   "source": [
    "# TODO: cv\n",
    "model = glda.GuidedLDA(n_topics=len(guide_words), n_iter=100)\n",
    "model.fit(X, seed_topics=seed_topics, seed_confidence=0.8)\n",
    "\n",
    "n_top_words = 15\n",
    "for i, topic_dist in enumerate(model.topic_word_):\n",
    "    topic_words = np.array(vocab)[np.argsort(topic_dist)][:-(n_top_words+1):-1]\n",
    "    topic = re.findall('\\\\\\\\([a-z_]+)', filenames[i])[0]\n",
    "    print(f'Topic {topic}:\\n{\" \".join(topic_words)}\\n')"
   ]
  },
  {
   "cell_type": "code",
   "execution_count": null,
   "outputs": [],
   "source": [],
   "metadata": {
    "collapsed": false,
    "pycharm": {
     "name": "#%%\n"
    }
   }
  }
 ],
 "metadata": {
  "kernelspec": {
   "name": "pycharm-e4b9277d",
   "language": "python",
   "display_name": "PyCharm (movie-preference-predictor)"
  },
  "language_info": {
   "codemirror_mode": {
    "name": "ipython",
    "version": 3
   },
   "file_extension": ".py",
   "mimetype": "text/x-python",
   "name": "python",
   "nbconvert_exporter": "python",
   "pygments_lexer": "ipython3",
   "version": "3.9.1"
  }
 },
 "nbformat": 4,
 "nbformat_minor": 4
}