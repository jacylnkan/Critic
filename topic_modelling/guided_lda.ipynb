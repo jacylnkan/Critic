{
 "cells": [
  {
   "cell_type": "code",
   "execution_count": 50,
   "metadata": {},
   "outputs": [],
   "source": [
    "from lda import guidedlda as glda\n",
    "import numpy as np\n",
    "import pandas as pd\n",
    "import re"
   ]
  },
  {
   "cell_type": "markdown",
   "metadata": {},
   "source": [
    "## Read in Lemmatized Reviews"
   ]
  },
  {
   "cell_type": "code",
   "metadata": {
    "pycharm": {
     "name": "#%%\n"
    }
   },
   "source": [
    "number = 5933\n",
    "lemmatized_data = pd.read_csv(f'../data/reviews/lemmatized_reviews/lemmatized_reviews_{number}.csv', index_col=0)\n",
    "lemmatized_data"
   ],
   "execution_count": 51,
   "outputs": [
    {
     "data": {
      "text/plain": "          tconst                username rating  \\\n0      tt0000574               David-240  10/10   \n1      tt0000574  F Gwynplaine MacIntyre  10/10   \n2      tt0000574               ackstasis   9/10   \n3      tt0000574               Ziggy5446  10/10   \n4      tt0000574            Fella_shibby   8/10   \n...          ...                     ...    ...   \n11743  tt0018621          JohnHowardReid   8/10   \n11744  tt0018621                kidboots   8/10   \n11745  tt0018621  F Gwynplaine MacIntyre   7/10   \n11746  tt0018638            cliffperriam   8/10   \n11747  tt0018639  F Gwynplaine MacIntyre   6/10   \n\n                                                  review  \n0      movie be believe to be the world first feature...  \n1      this afternoon at the barbican i attend the uk...  \n2      movie be undoubtedly one of the cinema most si...  \n3      movie symbolizes both the birth of the austral...  \n4      this be the original n the first account of ne...  \n...                                                  ...  \n11743  paramount groom superbeautiful actress a a rep...  \n11744  actress seem to be in every other movie during...  \n11745  actress be an attractive and talented actress ...  \n11746  movie exists a a reel silent french mm release...  \n11747  i be eager to see movie because it base on a p...  \n\n[11748 rows x 4 columns]",
      "text/html": "<div>\n<style scoped>\n    .dataframe tbody tr th:only-of-type {\n        vertical-align: middle;\n    }\n\n    .dataframe tbody tr th {\n        vertical-align: top;\n    }\n\n    .dataframe thead th {\n        text-align: right;\n    }\n</style>\n<table border=\"1\" class=\"dataframe\">\n  <thead>\n    <tr style=\"text-align: right;\">\n      <th></th>\n      <th>tconst</th>\n      <th>username</th>\n      <th>rating</th>\n      <th>review</th>\n    </tr>\n  </thead>\n  <tbody>\n    <tr>\n      <th>0</th>\n      <td>tt0000574</td>\n      <td>David-240</td>\n      <td>10/10</td>\n      <td>movie be believe to be the world first feature...</td>\n    </tr>\n    <tr>\n      <th>1</th>\n      <td>tt0000574</td>\n      <td>F Gwynplaine MacIntyre</td>\n      <td>10/10</td>\n      <td>this afternoon at the barbican i attend the uk...</td>\n    </tr>\n    <tr>\n      <th>2</th>\n      <td>tt0000574</td>\n      <td>ackstasis</td>\n      <td>9/10</td>\n      <td>movie be undoubtedly one of the cinema most si...</td>\n    </tr>\n    <tr>\n      <th>3</th>\n      <td>tt0000574</td>\n      <td>Ziggy5446</td>\n      <td>10/10</td>\n      <td>movie symbolizes both the birth of the austral...</td>\n    </tr>\n    <tr>\n      <th>4</th>\n      <td>tt0000574</td>\n      <td>Fella_shibby</td>\n      <td>8/10</td>\n      <td>this be the original n the first account of ne...</td>\n    </tr>\n    <tr>\n      <th>...</th>\n      <td>...</td>\n      <td>...</td>\n      <td>...</td>\n      <td>...</td>\n    </tr>\n    <tr>\n      <th>11743</th>\n      <td>tt0018621</td>\n      <td>JohnHowardReid</td>\n      <td>8/10</td>\n      <td>paramount groom superbeautiful actress a a rep...</td>\n    </tr>\n    <tr>\n      <th>11744</th>\n      <td>tt0018621</td>\n      <td>kidboots</td>\n      <td>8/10</td>\n      <td>actress seem to be in every other movie during...</td>\n    </tr>\n    <tr>\n      <th>11745</th>\n      <td>tt0018621</td>\n      <td>F Gwynplaine MacIntyre</td>\n      <td>7/10</td>\n      <td>actress be an attractive and talented actress ...</td>\n    </tr>\n    <tr>\n      <th>11746</th>\n      <td>tt0018638</td>\n      <td>cliffperriam</td>\n      <td>8/10</td>\n      <td>movie exists a a reel silent french mm release...</td>\n    </tr>\n    <tr>\n      <th>11747</th>\n      <td>tt0018639</td>\n      <td>F Gwynplaine MacIntyre</td>\n      <td>6/10</td>\n      <td>i be eager to see movie because it base on a p...</td>\n    </tr>\n  </tbody>\n</table>\n<p>11748 rows × 4 columns</p>\n</div>"
     },
     "execution_count": 51,
     "metadata": {},
     "output_type": "execute_result"
    }
   ]
  },
  {
   "cell_type": "markdown",
   "metadata": {
    "pycharm": {
     "name": "#%% md\n"
    }
   },
   "source": [
    "## Create Fitted Guided LDA Model"
   ]
  },
  {
   "cell_type": "code",
   "execution_count": 52,
   "outputs": [],
   "source": [
    "from sklearn.feature_extraction.text import CountVectorizer\n",
    "\n",
    "def create_doc_term_matrix(data, inp='content', min_df=1, max_df=1.0):\n",
    "    cv = CountVectorizer(input=inp, stop_words='english', min_df=min_df, max_df=max_df)\n",
    "    X = cv.fit_transform(data)\n",
    "    return cv, X\n",
    "\n",
    "def get_vocab(cv):\n",
    "    word2id = cv.vocabulary_\n",
    "    vocab = cv.get_feature_names()\n",
    "    return word2id, vocab\n",
    "\n",
    "def fitted_glda_model(X, guide_words, word2id, seed_confidence=1):\n",
    "    model = glda.GuidedLDA(n_topics=len(guide_words), n_iter=100)\n",
    "\n",
    "    seed_topics = {}\n",
    "    for t_id, st in enumerate(guide_words):\n",
    "        for word in st:\n",
    "            seed_topics[word2id[word]] = t_id\n",
    "\n",
    "    model.fit(X, seed_topics=seed_topics, seed_confidence=seed_confidence)\n",
    "\n",
    "    return model\n",
    "\n",
    "def get_guide_words(model, vocab, n):\n",
    "    guide_words = []\n",
    "\n",
    "    for i, topic_dist in enumerate(model.topic_word_):\n",
    "        topic_words = np.array(vocab)[np.argsort(topic_dist)][:-(n+1):-1]\n",
    "        guide_words.append(topic_words)\n",
    "        topic_label = re.findall('\\\\\\\\([a-z_]+)', filenames[i])[0]\n",
    "        print(f'Topic {topic_label}:\\n{\" \".join(topic_words)}\\n')\n",
    "\n",
    "    return guide_words"
   ],
   "metadata": {
    "collapsed": false,
    "pycharm": {
     "name": "#%%\n"
    }
   }
  },
  {
   "cell_type": "markdown",
   "source": [
    "### Retrieve Seed Topics"
   ],
   "metadata": {
    "collapsed": false,
    "pycharm": {
     "name": "#%% md\n"
    }
   }
  },
  {
   "cell_type": "code",
   "metadata": {
    "scrolled": false,
    "pycharm": {
     "name": "#%%\n"
    }
   },
   "source": [
    "import glob\n",
    "\n",
    "filenames = [file for file in glob.glob(\"../data/topics/lemm_topics/*.txt\")]\n",
    "\n",
    "# create document term matrix over all guide documents\n",
    "guide_cv, guideX = create_doc_term_matrix(filenames, inp='filename', max_df=0.9)\n",
    "\n",
    "# create vocabulary over all guide documents\n",
    "guide_word2id, guide_vocab = get_vocab(guide_cv)\n",
    "\n",
    "# retrieve (manual) basic guide words\n",
    "with open('../data/topics/lemm_guide_words.txt', encoding='utf-8') as f:\n",
    "    basic_guide_words = [[t for t in topics.split() if t in guide_vocab] for topics in f.read().splitlines()]\n",
    "\n",
    "# retrieve fitted glda model\n",
    "guide_model = fitted_glda_model(guideX, basic_guide_words, guide_word2id)\n",
    "\n",
    "# retrieve guide words extracted from all guide documents\n",
    "seed_guide_words = get_guide_words(guide_model, guide_vocab, 10)"
   ],
   "execution_count": 55,
   "outputs": [
    {
     "name": "stderr",
     "output_type": "stream",
     "text": [
      "INFO:lda:n_documents: 11\n",
      "INFO:lda:vocab_size: 571\n",
      "INFO:lda:n_words: 1110\n",
      "INFO:lda:n_topics: 10\n",
      "INFO:lda:n_iter: 100\n",
      "INFO:lda:<0> log likelihood: -11065\n",
      "INFO:lda:<10> log likelihood: -8617\n",
      "INFO:lda:<20> log likelihood: -8499\n",
      "INFO:lda:<30> log likelihood: -8384\n",
      "INFO:lda:<40> log likelihood: -8249\n",
      "INFO:lda:<50> log likelihood: -8202\n",
      "INFO:lda:<60> log likelihood: -8169\n",
      "INFO:lda:<70> log likelihood: -8153\n",
      "INFO:lda:<80> log likelihood: -8125\n",
      "INFO:lda:<90> log likelihood: -8117\n",
      "INFO:lda:<99> log likelihood: -8119\n"
     ]
    },
    {
     "name": "stdout",
     "output_type": "stream",
     "text": [
      "Topic acting:\n",
      "character actor act performance tom people forrest hank run thats\n",
      "\n",
      "Topic attraction:\n",
      "arc set far structure watch interested base conform approach reason\n",
      "\n",
      "Topic cinematography:\n",
      "just set make language light cinematography element oneofakind act best\n",
      "\n",
      "Topic dialogue:\n",
      "film dialogue story help make time context use universe thing\n",
      "\n",
      "Topic directing:\n",
      "vision tell director way execute potential mean told creative onscreen\n",
      "\n",
      "Topic editing_effects:\n",
      "effect tone edit visual special seamlessly shark explosion building thriller\n",
      "\n",
      "Topic it_factor:\n",
      "premise value main entertainment entertain good instead iconic matter sequence\n",
      "\n",
      "Topic plot:\n",
      "story plot follow create character example work attention audience different\n",
      "\n",
      "Topic sound_music:\n",
      "sound music feel transcendent experience design authentic maybe aspect harmony\n",
      "\n",
      "Topic theme:\n",
      "theme intrigue gladiator able identify story form away special think\n",
      "\n"
     ]
    }
   ]
  },
  {
   "cell_type": "markdown",
   "metadata": {},
   "source": [
    "### Generate Corpus Vocabulary and Seed Topics"
   ]
  },
  {
   "cell_type": "code",
   "execution_count": 56,
   "metadata": {},
   "outputs": [],
   "source": [
    "cv, X = create_doc_term_matrix(lemmatized_data.review, min_df=30, max_df=0.7)\n",
    "word2id, vocab = get_vocab(cv)\n",
    "\n",
    "guide_words = [[t for t in topics if t in vocab] for topics in seed_guide_words]"
   ]
  },
  {
   "cell_type": "markdown",
   "metadata": {},
   "source": [
    "### Fit Model and Display Top Topic Words"
   ]
  },
  {
   "cell_type": "code",
   "execution_count": 58,
   "metadata": {
    "pycharm": {
     "name": "#%%\n"
    }
   },
   "outputs": [
    {
     "name": "stderr",
     "output_type": "stream",
     "text": [
      "INFO:lda:n_documents: 11748\n",
      "INFO:lda:vocab_size: 5242\n",
      "INFO:lda:n_words: 1294393\n",
      "INFO:lda:n_topics: 10\n",
      "INFO:lda:n_iter: 100\n",
      "WARNING:lda:all zero row in document-term matrix found\n",
      "INFO:lda:<0> log likelihood: -13093049\n",
      "INFO:lda:<10> log likelihood: -11181366\n",
      "INFO:lda:<20> log likelihood: -10833806\n",
      "INFO:lda:<30> log likelihood: -10715815\n",
      "INFO:lda:<40> log likelihood: -10649948\n",
      "INFO:lda:<50> log likelihood: -10606758\n",
      "INFO:lda:<60> log likelihood: -10570344\n",
      "INFO:lda:<70> log likelihood: -10543753\n",
      "INFO:lda:<80> log likelihood: -10523625\n",
      "INFO:lda:<90> log likelihood: -10506936\n",
      "INFO:lda:<99> log likelihood: -10490294\n"
     ]
    },
    {
     "name": "stdout",
     "output_type": "stream",
     "text": [
      "Topic acting:\n",
      "actor actress director play make star love role young girl scene man year father come\n",
      "\n",
      "Topic attraction:\n",
      "actor watch silent war black like make train white great time just comedy scene say\n",
      "\n",
      "Topic cinematography:\n",
      "actor make silent director story great horror set time like best just act look german\n",
      "\n",
      "Topic dialogue:\n",
      "make time actor like just watch silent really scene great story good way thing look\n",
      "\n",
      "Topic directing:\n",
      "director german time story make herr actress cinema great silent war year work way life\n",
      "\n",
      "Topic editing_effects:\n",
      "city worker actress ship scene world shot life people man war set time work class\n",
      "\n",
      "Topic it_factor:\n",
      "actress make like woman man girl good just love end wife come old look young\n",
      "\n",
      "Topic plot:\n",
      "actor director character actress scene make shot story plot work comedy time act like use\n",
      "\n",
      "Topic sound_music:\n",
      "version silent director print score dvd actress actor make original release time minute year sound\n",
      "\n",
      "Topic theme:\n",
      "actor story actress love like make silent version man character time good great just life\n",
      "\n"
     ]
    }
   ],
   "source": [
    "# TODO: cv\n",
    "model = fitted_glda_model(X, guide_words, word2id, seed_confidence=0.8)\n",
    "top_words = get_guide_words(model, vocab, 15)\n",
    "\n",
    "\n"
   ]
  }
 ],
 "metadata": {
  "kernelspec": {
   "name": "pycharm-e4b9277d",
   "language": "python",
   "display_name": "PyCharm (movie-preference-predictor)"
  },
  "language_info": {
   "codemirror_mode": {
    "name": "ipython",
    "version": 3
   },
   "file_extension": ".py",
   "mimetype": "text/x-python",
   "name": "python",
   "nbconvert_exporter": "python",
   "pygments_lexer": "ipython3",
   "version": "3.9.1"
  }
 },
 "nbformat": 4,
 "nbformat_minor": 4
}